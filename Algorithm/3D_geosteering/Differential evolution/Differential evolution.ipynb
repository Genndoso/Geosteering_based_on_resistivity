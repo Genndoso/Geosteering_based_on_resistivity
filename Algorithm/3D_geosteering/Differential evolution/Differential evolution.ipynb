{
 "cells": [
  {
   "cell_type": "code",
   "execution_count": 7,
   "id": "2818d927",
   "metadata": {},
   "outputs": [],
   "source": [
    "import numpy as np\n",
    "import matplotlib.pyplot as plt\n",
    "from scipy.optimize import differential_evolution\n",
    "import pickle\n",
    "from scipy.interpolate import interpn\n",
    "#from vol_greedy_polar_coordinates import greedy_geosteering_polar, plot_3d_traj"
   ]
  },
  {
   "cell_type": "markdown",
   "id": "2ebd288c",
   "metadata": {},
   "source": [
    "Differential evolution is a heuristic approach for the global optimisation of nonlinear and non- differentiable continuous space functions.\n",
    "\n",
    "The differential evolution algorithm belongs to a broader family of evolutionary computing algorithms. Similar to other popular direct search approaches, such as genetic algorithms and evolution strategies, the differential evolution algorithm starts with an initial population of candidate solutions. These candidate solutions are iteratively improved by introducing mutations into the population, and retaining the fittest candidate solutions that yield a lower objective function value."
   ]
  },
  {
   "cell_type": "code",
   "execution_count": 11,
   "id": "14255464",
   "metadata": {},
   "outputs": [
    {
     "data": {
      "text/plain": [
       "'C:\\\\Users\\\\Максимилиан\\\\Desktop\\\\Aramco\\\\Geosteering\\\\Algorithm\\\\3D_geosteering'"
      ]
     },
     "execution_count": 11,
     "metadata": {},
     "output_type": "execute_result"
    }
   ],
   "source": [
    "import os\n",
    "os.chdir('C:\\\\Users\\\\Максимилиан\\\\Desktop\\\\Aramco\\\\Geosteering\\\\Algorithm\\\\3D_geosteering')\n",
    "os.getcwd()"
   ]
  },
  {
   "cell_type": "code",
   "execution_count": 12,
   "id": "6aaaceb2",
   "metadata": {},
   "outputs": [],
   "source": [
    "# import 3d cube\n",
    "file1 = '3D_301.833.2055'\n",
    "file2 = '3D_400.400.1650'\n",
    "file3 = '3D_80.80.230'\n",
    "#file = open(\"./RL/3D_301.833.2055.pickle\",'rb')\n",
    "file = open(f\"{file2}.pickle\",'rb')\n",
    "cube_3d = pickle.load(file)"
   ]
  },
  {
   "cell_type": "code",
   "execution_count": 15,
   "id": "bd99a63a",
   "metadata": {},
   "outputs": [],
   "source": [
    "\n",
    "class DE_algo:\n",
    "    def __init__(self, cube_3d):\n",
    "        self.cube_3d = cube_3d\n",
    "\n",
    "        x = np.linspace(0, cube_3d.shape[0] - 1, cube_3d.shape[0])\n",
    "        y = np.linspace(0, cube_3d.shape[1] - 1, cube_3d.shape[1])\n",
    "        z = np.linspace(0, cube_3d.shape[2] - 1, cube_3d.shape[2])\n",
    "        self.points = (x, y, z)\n",
    "\n",
    "    def get_vec(self, inc, azi, length, nev=False, deg=True):\n",
    "        \"\"\"\n",
    "        Convert inc and azi into a vector.\n",
    "        Params:\n",
    "            inc: array of n floats\n",
    "                Inclination relative to the z-axis (up)\n",
    "            azi: array of n floats\n",
    "                Azimuth relative to the y-axis\n",
    "            r: float or array of n floats\n",
    "                Scalar to return a scaled vector\n",
    "        Returns:\n",
    "            An (n,3) array of vectors\n",
    "        \"\"\"\n",
    "        if deg:\n",
    "            inc_rad, azi_rad = np.radians(np.array([inc, azi]))\n",
    "        else:\n",
    "            inc_rad = inc\n",
    "            azi_rad = azi\n",
    "        y = length * np.sin(inc_rad) * np.cos(azi_rad)\n",
    "        x = length * np.sin(inc_rad) * np.sin(azi_rad)\n",
    "        z = length * np.cos(inc_rad)\n",
    "\n",
    "        #     if nev:\n",
    "        #         vec = np.array([y, x, z]).T\n",
    "        #     else:\n",
    "        #         vec = np.array([x, y, z]).T\n",
    "        return np.stack([x, y, z])\n",
    "\n",
    "    def obj(self, angles, *state):\n",
    "        penalty = 0\n",
    "        vec_diff = self.get_vec(angles[0], angles[1], state[-1])\n",
    "        #  vec_diff = get_vec(angles[0], 10)\n",
    "        state_new = [state[0][0] + vec_diff[0], state[0][1] + vec_diff[1], state[0][2] + vec_diff[2]]\n",
    "\n",
    "        # dogleg severity constraint\n",
    "        dls_val = np.linalg.norm(angles[0] - state[1][-2]) + np.linalg.norm(angles[1] - state[2][-2])\n",
    "        if dls_val >= state[3] * state[4]:\n",
    "            penalty += dls_val * 0.5\n",
    "\n",
    "        # contraint for high length action\n",
    "        length_constraint = np.linalg.norm(vec_diff)\n",
    "\n",
    "        # objective function\n",
    "        OFV = interpn(self.points, self.cube_3d, state_new, method='nearest') / length_constraint - penalty\n",
    "        return -OFV\n",
    "\n",
    "    def DE_planning(self, pop_size=100, num_iters=1000, F=0.7, cr=0.7, bounds=[(0, 180), (0, 92)],\n",
    "                    length=10, angle_constraint=0.1,\n",
    "                    init_incl=[0, 0], init_azi=[10, 10],\n",
    "                    init_pos=[120, 170, 40]):\n",
    "        \"\"\"\n",
    "        1 step differential evolution trajectory planning.\n",
    "        Params:\n",
    "            pop_size: int\n",
    "             population size\n",
    "            num_iters: int\n",
    "             define number of iterations\n",
    "            F: float (0,1)\n",
    "             scale factor for mutation\n",
    "            cr: flaot (0,1)\n",
    "             crossover rate for recombination\n",
    "            bounds: list of tuples\n",
    "             bound for searchable paramaters (in our case (azi, inclination))\n",
    "            angle_constraint: float\n",
    "             dogleg constraint per m\n",
    "            length: int\n",
    "             length of one step\n",
    "\n",
    "        \"\"\"\n",
    "        OFV = 0\n",
    "        pos = init_pos\n",
    "        incl_l = init_incl\n",
    "        azi_l = init_azi\n",
    "        state = ([pos[0], pos[1], pos[2]], incl_l, azi_l, angle_constraint, length)\n",
    "        traj_x = [state[0][0]]\n",
    "        traj_y = [state[0][1]]\n",
    "        traj_z = [state[0][2]]\n",
    "        с = 0\n",
    "\n",
    "        while (traj_z[-1] <= self.cube_3d.shape[2] - 20) and (traj_y[-1] <= self.cube_3d.shape[1] - 20) and \\\n",
    "                (traj_x[-1] <= self.cube_3d.shape[0] - 20):\n",
    "            de_sol = differential_evolution(self.obj, bounds, args=(state), mutation = F, popsize = pop_size, maxiter = num_iters, updating='deferred', disp=False).x\n",
    "            incl_l.append(de_sol[0])\n",
    "            azi_l.append(de_sol[1])\n",
    "            step = self.get_vec(incl_l[-1], azi_l[-1], length=length)\n",
    "\n",
    "            traj_x.append(state[0][0] + step[0])\n",
    "            traj_y.append(state[0][1] + step[1])\n",
    "            traj_z.append(state[0][2] + step[2])\n",
    "            print(с, traj_x[-1], traj_y[-1], traj_z[-1])\n",
    "            state[0][0] = state[0][0] + step[0]\n",
    "            state[0][1] = state[0][1] + step[1]\n",
    "            state[0][2] = state[0][2] + step[2]\n",
    "            state_new = [state[0][0], state[0][1], state[0][2]]\n",
    "\n",
    "            OFV += interpn(self.points, self.cube_3d, state_new, method='nearest')\n",
    "            с += 1\n",
    "        print(OFV)\n",
    "        return OFV, np.stack([traj_x, traj_y, traj_z])"
   ]
  },
  {
   "cell_type": "code",
   "execution_count": 16,
   "id": "37ef020c",
   "metadata": {},
   "outputs": [
    {
     "name": "stdout",
     "output_type": "stream",
     "text": [
      "0 120.0108151927475 170.06299153996721 49.99979575278907\n",
      "1 120.01253165395924 170.07233051365108 59.999791244654624\n"
     ]
    },
    {
     "ename": "KeyboardInterrupt",
     "evalue": "",
     "output_type": "error",
     "traceback": [
      "\u001b[1;31m---------------------------------------------------------------------------\u001b[0m",
      "\u001b[1;31mKeyboardInterrupt\u001b[0m                         Traceback (most recent call last)",
      "\u001b[1;32m~\\AppData\\Local\\Temp\\ipykernel_32136\\3480707052.py\u001b[0m in \u001b[0;36m<module>\u001b[1;34m\u001b[0m\n\u001b[0;32m      1\u001b[0m \u001b[0mDE_algos\u001b[0m \u001b[1;33m=\u001b[0m \u001b[0mDE_algo\u001b[0m\u001b[1;33m(\u001b[0m\u001b[0mcube_3d\u001b[0m\u001b[1;33m)\u001b[0m\u001b[1;33m\u001b[0m\u001b[1;33m\u001b[0m\u001b[0m\n\u001b[1;32m----> 2\u001b[1;33m \u001b[0mOFV\u001b[0m\u001b[1;33m,\u001b[0m \u001b[0mtraj\u001b[0m \u001b[1;33m=\u001b[0m \u001b[0mDE_algos\u001b[0m\u001b[1;33m.\u001b[0m\u001b[0mDE_planning\u001b[0m\u001b[1;33m(\u001b[0m\u001b[1;33m)\u001b[0m\u001b[1;33m\u001b[0m\u001b[1;33m\u001b[0m\u001b[0m\n\u001b[0m\u001b[0;32m      3\u001b[0m \u001b[0mofv_list\u001b[0m \u001b[1;33m=\u001b[0m \u001b[1;33m[\u001b[0m\u001b[1;33m]\u001b[0m\u001b[1;33m\u001b[0m\u001b[1;33m\u001b[0m\u001b[0m\n",
      "\u001b[1;32m~\\AppData\\Local\\Temp\\ipykernel_32136\\2050382853.py\u001b[0m in \u001b[0;36mDE_planning\u001b[1;34m(self, pop_size, num_iters, F, cr, bounds, length, angle_constraint, init_incl, init_azi, init_pos)\u001b[0m\n\u001b[0;32m     89\u001b[0m         \u001b[1;32mwhile\u001b[0m \u001b[1;33m(\u001b[0m\u001b[0mtraj_z\u001b[0m\u001b[1;33m[\u001b[0m\u001b[1;33m-\u001b[0m\u001b[1;36m1\u001b[0m\u001b[1;33m]\u001b[0m \u001b[1;33m<=\u001b[0m \u001b[0mself\u001b[0m\u001b[1;33m.\u001b[0m\u001b[0mcube_3d\u001b[0m\u001b[1;33m.\u001b[0m\u001b[0mshape\u001b[0m\u001b[1;33m[\u001b[0m\u001b[1;36m2\u001b[0m\u001b[1;33m]\u001b[0m \u001b[1;33m-\u001b[0m \u001b[1;36m20\u001b[0m\u001b[1;33m)\u001b[0m \u001b[1;32mand\u001b[0m \u001b[1;33m(\u001b[0m\u001b[0mtraj_y\u001b[0m\u001b[1;33m[\u001b[0m\u001b[1;33m-\u001b[0m\u001b[1;36m1\u001b[0m\u001b[1;33m]\u001b[0m \u001b[1;33m<=\u001b[0m \u001b[0mself\u001b[0m\u001b[1;33m.\u001b[0m\u001b[0mcube_3d\u001b[0m\u001b[1;33m.\u001b[0m\u001b[0mshape\u001b[0m\u001b[1;33m[\u001b[0m\u001b[1;36m1\u001b[0m\u001b[1;33m]\u001b[0m \u001b[1;33m-\u001b[0m \u001b[1;36m20\u001b[0m\u001b[1;33m)\u001b[0m \u001b[1;32mand\u001b[0m\u001b[0;31m \u001b[0m\u001b[0;31m\\\u001b[0m\u001b[1;33m\u001b[0m\u001b[1;33m\u001b[0m\u001b[0m\n\u001b[0;32m     90\u001b[0m                 \u001b[1;33m(\u001b[0m\u001b[0mtraj_x\u001b[0m\u001b[1;33m[\u001b[0m\u001b[1;33m-\u001b[0m\u001b[1;36m1\u001b[0m\u001b[1;33m]\u001b[0m \u001b[1;33m<=\u001b[0m \u001b[0mself\u001b[0m\u001b[1;33m.\u001b[0m\u001b[0mcube_3d\u001b[0m\u001b[1;33m.\u001b[0m\u001b[0mshape\u001b[0m\u001b[1;33m[\u001b[0m\u001b[1;36m0\u001b[0m\u001b[1;33m]\u001b[0m \u001b[1;33m-\u001b[0m \u001b[1;36m20\u001b[0m\u001b[1;33m)\u001b[0m\u001b[1;33m:\u001b[0m\u001b[1;33m\u001b[0m\u001b[1;33m\u001b[0m\u001b[0m\n\u001b[1;32m---> 91\u001b[1;33m             \u001b[0mde_sol\u001b[0m \u001b[1;33m=\u001b[0m \u001b[0mdifferential_evolution\u001b[0m\u001b[1;33m(\u001b[0m\u001b[0mself\u001b[0m\u001b[1;33m.\u001b[0m\u001b[0mobj\u001b[0m\u001b[1;33m,\u001b[0m \u001b[0mbounds\u001b[0m\u001b[1;33m,\u001b[0m \u001b[0margs\u001b[0m\u001b[1;33m=\u001b[0m\u001b[1;33m(\u001b[0m\u001b[0mstate\u001b[0m\u001b[1;33m)\u001b[0m\u001b[1;33m,\u001b[0m \u001b[0mmutation\u001b[0m \u001b[1;33m=\u001b[0m \u001b[0mF\u001b[0m\u001b[1;33m,\u001b[0m \u001b[0mpopsize\u001b[0m \u001b[1;33m=\u001b[0m \u001b[0mpop_size\u001b[0m\u001b[1;33m,\u001b[0m \u001b[0mmaxiter\u001b[0m \u001b[1;33m=\u001b[0m \u001b[0mnum_iters\u001b[0m\u001b[1;33m,\u001b[0m \u001b[0mupdating\u001b[0m\u001b[1;33m=\u001b[0m\u001b[1;34m'deferred'\u001b[0m\u001b[1;33m,\u001b[0m \u001b[0mdisp\u001b[0m\u001b[1;33m=\u001b[0m\u001b[1;32mFalse\u001b[0m\u001b[1;33m)\u001b[0m\u001b[1;33m.\u001b[0m\u001b[0mx\u001b[0m\u001b[1;33m\u001b[0m\u001b[1;33m\u001b[0m\u001b[0m\n\u001b[0m\u001b[0;32m     92\u001b[0m             \u001b[0mincl_l\u001b[0m\u001b[1;33m.\u001b[0m\u001b[0mappend\u001b[0m\u001b[1;33m(\u001b[0m\u001b[0mde_sol\u001b[0m\u001b[1;33m[\u001b[0m\u001b[1;36m0\u001b[0m\u001b[1;33m]\u001b[0m\u001b[1;33m)\u001b[0m\u001b[1;33m\u001b[0m\u001b[1;33m\u001b[0m\u001b[0m\n\u001b[0;32m     93\u001b[0m             \u001b[0mazi_l\u001b[0m\u001b[1;33m.\u001b[0m\u001b[0mappend\u001b[0m\u001b[1;33m(\u001b[0m\u001b[0mde_sol\u001b[0m\u001b[1;33m[\u001b[0m\u001b[1;36m1\u001b[0m\u001b[1;33m]\u001b[0m\u001b[1;33m)\u001b[0m\u001b[1;33m\u001b[0m\u001b[1;33m\u001b[0m\u001b[0m\n",
      "\u001b[1;32mC:\\ProgramData\\Anaconda3\\lib\\site-packages\\scipy\\optimize\\_differentialevolution.py\u001b[0m in \u001b[0;36mdifferential_evolution\u001b[1;34m(func, bounds, args, strategy, maxiter, popsize, tol, mutation, recombination, seed, callback, disp, polish, init, atol, updating, workers, constraints, x0, integrality, vectorized)\u001b[0m\n\u001b[0;32m    390\u001b[0m                                      \u001b[0mintegrality\u001b[0m\u001b[1;33m=\u001b[0m\u001b[0mintegrality\u001b[0m\u001b[1;33m,\u001b[0m\u001b[1;33m\u001b[0m\u001b[1;33m\u001b[0m\u001b[0m\n\u001b[0;32m    391\u001b[0m                                      vectorized=vectorized) as solver:\n\u001b[1;32m--> 392\u001b[1;33m         \u001b[0mret\u001b[0m \u001b[1;33m=\u001b[0m \u001b[0msolver\u001b[0m\u001b[1;33m.\u001b[0m\u001b[0msolve\u001b[0m\u001b[1;33m(\u001b[0m\u001b[1;33m)\u001b[0m\u001b[1;33m\u001b[0m\u001b[1;33m\u001b[0m\u001b[0m\n\u001b[0m\u001b[0;32m    393\u001b[0m \u001b[1;33m\u001b[0m\u001b[0m\n\u001b[0;32m    394\u001b[0m     \u001b[1;32mreturn\u001b[0m \u001b[0mret\u001b[0m\u001b[1;33m\u001b[0m\u001b[1;33m\u001b[0m\u001b[0m\n",
      "\u001b[1;32mC:\\ProgramData\\Anaconda3\\lib\\site-packages\\scipy\\optimize\\_differentialevolution.py\u001b[0m in \u001b[0;36msolve\u001b[1;34m(self)\u001b[0m\n\u001b[0;32m    991\u001b[0m             \u001b[1;31m# evolve the population by a generation\u001b[0m\u001b[1;33m\u001b[0m\u001b[1;33m\u001b[0m\u001b[0m\n\u001b[0;32m    992\u001b[0m             \u001b[1;32mtry\u001b[0m\u001b[1;33m:\u001b[0m\u001b[1;33m\u001b[0m\u001b[1;33m\u001b[0m\u001b[0m\n\u001b[1;32m--> 993\u001b[1;33m                 \u001b[0mnext\u001b[0m\u001b[1;33m(\u001b[0m\u001b[0mself\u001b[0m\u001b[1;33m)\u001b[0m\u001b[1;33m\u001b[0m\u001b[1;33m\u001b[0m\u001b[0m\n\u001b[0m\u001b[0;32m    994\u001b[0m             \u001b[1;32mexcept\u001b[0m \u001b[0mStopIteration\u001b[0m\u001b[1;33m:\u001b[0m\u001b[1;33m\u001b[0m\u001b[1;33m\u001b[0m\u001b[0m\n\u001b[0;32m    995\u001b[0m                 \u001b[0mwarning_flag\u001b[0m \u001b[1;33m=\u001b[0m \u001b[1;32mTrue\u001b[0m\u001b[1;33m\u001b[0m\u001b[1;33m\u001b[0m\u001b[0m\n",
      "\u001b[1;32mC:\\ProgramData\\Anaconda3\\lib\\site-packages\\scipy\\optimize\\_differentialevolution.py\u001b[0m in \u001b[0;36m__next__\u001b[1;34m(self)\u001b[0m\n\u001b[0;32m   1417\u001b[0m \u001b[1;33m\u001b[0m\u001b[0m\n\u001b[0;32m   1418\u001b[0m             \u001b[1;31m# only calculate for feasible entries\u001b[0m\u001b[1;33m\u001b[0m\u001b[1;33m\u001b[0m\u001b[0m\n\u001b[1;32m-> 1419\u001b[1;33m             trial_energies[feasible] = self._calculate_population_energies(\n\u001b[0m\u001b[0;32m   1420\u001b[0m                 trial_pop[feasible])\n\u001b[0;32m   1421\u001b[0m \u001b[1;33m\u001b[0m\u001b[0m\n",
      "\u001b[1;32mC:\\ProgramData\\Anaconda3\\lib\\site-packages\\scipy\\optimize\\_differentialevolution.py\u001b[0m in \u001b[0;36m_calculate_population_energies\u001b[1;34m(self, population)\u001b[0m\n\u001b[0;32m   1114\u001b[0m         \u001b[0mparameters_pop\u001b[0m \u001b[1;33m=\u001b[0m \u001b[0mself\u001b[0m\u001b[1;33m.\u001b[0m\u001b[0m_scale_parameters\u001b[0m\u001b[1;33m(\u001b[0m\u001b[0mpopulation\u001b[0m\u001b[1;33m)\u001b[0m\u001b[1;33m\u001b[0m\u001b[1;33m\u001b[0m\u001b[0m\n\u001b[0;32m   1115\u001b[0m         \u001b[1;32mtry\u001b[0m\u001b[1;33m:\u001b[0m\u001b[1;33m\u001b[0m\u001b[1;33m\u001b[0m\u001b[0m\n\u001b[1;32m-> 1116\u001b[1;33m             calc_energies = list(\n\u001b[0m\u001b[0;32m   1117\u001b[0m                 \u001b[0mself\u001b[0m\u001b[1;33m.\u001b[0m\u001b[0m_mapwrapper\u001b[0m\u001b[1;33m(\u001b[0m\u001b[0mself\u001b[0m\u001b[1;33m.\u001b[0m\u001b[0mfunc\u001b[0m\u001b[1;33m,\u001b[0m \u001b[0mparameters_pop\u001b[0m\u001b[1;33m[\u001b[0m\u001b[1;36m0\u001b[0m\u001b[1;33m:\u001b[0m\u001b[0mS\u001b[0m\u001b[1;33m]\u001b[0m\u001b[1;33m)\u001b[0m\u001b[1;33m\u001b[0m\u001b[1;33m\u001b[0m\u001b[0m\n\u001b[0;32m   1118\u001b[0m             )\n",
      "\u001b[1;32mC:\\ProgramData\\Anaconda3\\lib\\site-packages\\scipy\\_lib\\_util.py\u001b[0m in \u001b[0;36m__call__\u001b[1;34m(self, x)\u001b[0m\n\u001b[0;32m    405\u001b[0m \u001b[1;33m\u001b[0m\u001b[0m\n\u001b[0;32m    406\u001b[0m     \u001b[1;32mdef\u001b[0m \u001b[0m__call__\u001b[0m\u001b[1;33m(\u001b[0m\u001b[0mself\u001b[0m\u001b[1;33m,\u001b[0m \u001b[0mx\u001b[0m\u001b[1;33m)\u001b[0m\u001b[1;33m:\u001b[0m\u001b[1;33m\u001b[0m\u001b[1;33m\u001b[0m\u001b[0m\n\u001b[1;32m--> 407\u001b[1;33m         \u001b[1;32mreturn\u001b[0m \u001b[0mself\u001b[0m\u001b[1;33m.\u001b[0m\u001b[0mf\u001b[0m\u001b[1;33m(\u001b[0m\u001b[0mx\u001b[0m\u001b[1;33m,\u001b[0m \u001b[1;33m*\u001b[0m\u001b[0mself\u001b[0m\u001b[1;33m.\u001b[0m\u001b[0margs\u001b[0m\u001b[1;33m)\u001b[0m\u001b[1;33m\u001b[0m\u001b[1;33m\u001b[0m\u001b[0m\n\u001b[0m\u001b[0;32m    408\u001b[0m \u001b[1;33m\u001b[0m\u001b[0m\n\u001b[0;32m    409\u001b[0m \u001b[1;33m\u001b[0m\u001b[0m\n",
      "\u001b[1;32m~\\AppData\\Local\\Temp\\ipykernel_32136\\2050382853.py\u001b[0m in \u001b[0;36mobj\u001b[1;34m(self, angles, *state)\u001b[0m\n\u001b[0;32m     51\u001b[0m \u001b[1;33m\u001b[0m\u001b[0m\n\u001b[0;32m     52\u001b[0m         \u001b[1;31m# objective function\u001b[0m\u001b[1;33m\u001b[0m\u001b[1;33m\u001b[0m\u001b[0m\n\u001b[1;32m---> 53\u001b[1;33m         \u001b[0mOFV\u001b[0m \u001b[1;33m=\u001b[0m \u001b[0minterpn\u001b[0m\u001b[1;33m(\u001b[0m\u001b[0mself\u001b[0m\u001b[1;33m.\u001b[0m\u001b[0mpoints\u001b[0m\u001b[1;33m,\u001b[0m \u001b[0mself\u001b[0m\u001b[1;33m.\u001b[0m\u001b[0mcube_3d\u001b[0m\u001b[1;33m,\u001b[0m \u001b[0mstate_new\u001b[0m\u001b[1;33m,\u001b[0m \u001b[0mmethod\u001b[0m\u001b[1;33m=\u001b[0m\u001b[1;34m'nearest'\u001b[0m\u001b[1;33m)\u001b[0m \u001b[1;33m/\u001b[0m \u001b[0mlength_constraint\u001b[0m \u001b[1;33m-\u001b[0m \u001b[0mpenalty\u001b[0m\u001b[1;33m\u001b[0m\u001b[1;33m\u001b[0m\u001b[0m\n\u001b[0m\u001b[0;32m     54\u001b[0m         \u001b[1;32mreturn\u001b[0m \u001b[1;33m-\u001b[0m\u001b[0mOFV\u001b[0m\u001b[1;33m\u001b[0m\u001b[1;33m\u001b[0m\u001b[0m\n\u001b[0;32m     55\u001b[0m \u001b[1;33m\u001b[0m\u001b[0m\n",
      "\u001b[1;32mC:\\ProgramData\\Anaconda3\\lib\\site-packages\\scipy\\interpolate\\_rgi.py\u001b[0m in \u001b[0;36minterpn\u001b[1;34m(points, values, xi, method, bounds_error, fill_value)\u001b[0m\n\u001b[0;32m    596\u001b[0m                                          \u001b[0mbounds_error\u001b[0m\u001b[1;33m=\u001b[0m\u001b[0mbounds_error\u001b[0m\u001b[1;33m,\u001b[0m\u001b[1;33m\u001b[0m\u001b[1;33m\u001b[0m\u001b[0m\n\u001b[0;32m    597\u001b[0m                                          fill_value=fill_value)\n\u001b[1;32m--> 598\u001b[1;33m         \u001b[1;32mreturn\u001b[0m \u001b[0minterp\u001b[0m\u001b[1;33m(\u001b[0m\u001b[0mxi\u001b[0m\u001b[1;33m)\u001b[0m\u001b[1;33m\u001b[0m\u001b[1;33m\u001b[0m\u001b[0m\n\u001b[0m\u001b[0;32m    599\u001b[0m     \u001b[1;32melif\u001b[0m \u001b[0mmethod\u001b[0m \u001b[1;33m==\u001b[0m \u001b[1;34m\"splinef2d\"\u001b[0m\u001b[1;33m:\u001b[0m\u001b[1;33m\u001b[0m\u001b[1;33m\u001b[0m\u001b[0m\n\u001b[0;32m    600\u001b[0m         \u001b[0mxi_shape\u001b[0m \u001b[1;33m=\u001b[0m \u001b[0mxi\u001b[0m\u001b[1;33m.\u001b[0m\u001b[0mshape\u001b[0m\u001b[1;33m\u001b[0m\u001b[1;33m\u001b[0m\u001b[0m\n",
      "\u001b[1;32mC:\\ProgramData\\Anaconda3\\lib\\site-packages\\scipy\\interpolate\\_rgi.py\u001b[0m in \u001b[0;36m__call__\u001b[1;34m(self, xi, method)\u001b[0m\n\u001b[0;32m    321\u001b[0m                                      \"in dimension %d\" % i)\n\u001b[0;32m    322\u001b[0m \u001b[1;33m\u001b[0m\u001b[0m\n\u001b[1;32m--> 323\u001b[1;33m         \u001b[0mindices\u001b[0m\u001b[1;33m,\u001b[0m \u001b[0mnorm_distances\u001b[0m\u001b[1;33m,\u001b[0m \u001b[0mout_of_bounds\u001b[0m \u001b[1;33m=\u001b[0m \u001b[0mself\u001b[0m\u001b[1;33m.\u001b[0m\u001b[0m_find_indices\u001b[0m\u001b[1;33m(\u001b[0m\u001b[0mxi\u001b[0m\u001b[1;33m.\u001b[0m\u001b[0mT\u001b[0m\u001b[1;33m)\u001b[0m\u001b[1;33m\u001b[0m\u001b[1;33m\u001b[0m\u001b[0m\n\u001b[0m\u001b[0;32m    324\u001b[0m         \u001b[1;32mif\u001b[0m \u001b[0mmethod\u001b[0m \u001b[1;33m==\u001b[0m \u001b[1;34m\"linear\"\u001b[0m\u001b[1;33m:\u001b[0m\u001b[1;33m\u001b[0m\u001b[1;33m\u001b[0m\u001b[0m\n\u001b[0;32m    325\u001b[0m             result = self._evaluate_linear(indices,\n",
      "\u001b[1;32mC:\\ProgramData\\Anaconda3\\lib\\site-packages\\scipy\\interpolate\\_rgi.py\u001b[0m in \u001b[0;36m_find_indices\u001b[1;34m(self, xi)\u001b[0m\n\u001b[0;32m    425\u001b[0m         \u001b[1;31m# iterate through dimensions\u001b[0m\u001b[1;33m\u001b[0m\u001b[1;33m\u001b[0m\u001b[0m\n\u001b[0;32m    426\u001b[0m         \u001b[1;32mfor\u001b[0m \u001b[0mx\u001b[0m\u001b[1;33m,\u001b[0m \u001b[0mgrid\u001b[0m \u001b[1;32min\u001b[0m \u001b[0mzip\u001b[0m\u001b[1;33m(\u001b[0m\u001b[0mxi\u001b[0m\u001b[1;33m,\u001b[0m \u001b[0mself\u001b[0m\u001b[1;33m.\u001b[0m\u001b[0mgrid\u001b[0m\u001b[1;33m)\u001b[0m\u001b[1;33m:\u001b[0m\u001b[1;33m\u001b[0m\u001b[1;33m\u001b[0m\u001b[0m\n\u001b[1;32m--> 427\u001b[1;33m             \u001b[0mi\u001b[0m \u001b[1;33m=\u001b[0m \u001b[0mnp\u001b[0m\u001b[1;33m.\u001b[0m\u001b[0msearchsorted\u001b[0m\u001b[1;33m(\u001b[0m\u001b[0mgrid\u001b[0m\u001b[1;33m,\u001b[0m \u001b[0mx\u001b[0m\u001b[1;33m)\u001b[0m \u001b[1;33m-\u001b[0m \u001b[1;36m1\u001b[0m\u001b[1;33m\u001b[0m\u001b[1;33m\u001b[0m\u001b[0m\n\u001b[0m\u001b[0;32m    428\u001b[0m             \u001b[0mi\u001b[0m\u001b[1;33m[\u001b[0m\u001b[0mi\u001b[0m \u001b[1;33m<\u001b[0m \u001b[1;36m0\u001b[0m\u001b[1;33m]\u001b[0m \u001b[1;33m=\u001b[0m \u001b[1;36m0\u001b[0m\u001b[1;33m\u001b[0m\u001b[1;33m\u001b[0m\u001b[0m\n\u001b[0;32m    429\u001b[0m             \u001b[0mi\u001b[0m\u001b[1;33m[\u001b[0m\u001b[0mi\u001b[0m \u001b[1;33m>\u001b[0m \u001b[0mgrid\u001b[0m\u001b[1;33m.\u001b[0m\u001b[0msize\u001b[0m \u001b[1;33m-\u001b[0m \u001b[1;36m2\u001b[0m\u001b[1;33m]\u001b[0m \u001b[1;33m=\u001b[0m \u001b[0mgrid\u001b[0m\u001b[1;33m.\u001b[0m\u001b[0msize\u001b[0m \u001b[1;33m-\u001b[0m \u001b[1;36m2\u001b[0m\u001b[1;33m\u001b[0m\u001b[1;33m\u001b[0m\u001b[0m\n",
      "\u001b[1;32m<__array_function__ internals>\u001b[0m in \u001b[0;36msearchsorted\u001b[1;34m(*args, **kwargs)\u001b[0m\n",
      "\u001b[1;32mC:\\ProgramData\\Anaconda3\\lib\\site-packages\\numpy\\core\\fromnumeric.py\u001b[0m in \u001b[0;36msearchsorted\u001b[1;34m(a, v, side, sorter)\u001b[0m\n\u001b[0;32m   1348\u001b[0m \u001b[1;33m\u001b[0m\u001b[0m\n\u001b[0;32m   1349\u001b[0m     \"\"\"\n\u001b[1;32m-> 1350\u001b[1;33m     \u001b[1;32mreturn\u001b[0m \u001b[0m_wrapfunc\u001b[0m\u001b[1;33m(\u001b[0m\u001b[0ma\u001b[0m\u001b[1;33m,\u001b[0m \u001b[1;34m'searchsorted'\u001b[0m\u001b[1;33m,\u001b[0m \u001b[0mv\u001b[0m\u001b[1;33m,\u001b[0m \u001b[0mside\u001b[0m\u001b[1;33m=\u001b[0m\u001b[0mside\u001b[0m\u001b[1;33m,\u001b[0m \u001b[0msorter\u001b[0m\u001b[1;33m=\u001b[0m\u001b[0msorter\u001b[0m\u001b[1;33m)\u001b[0m\u001b[1;33m\u001b[0m\u001b[1;33m\u001b[0m\u001b[0m\n\u001b[0m\u001b[0;32m   1351\u001b[0m \u001b[1;33m\u001b[0m\u001b[0m\n\u001b[0;32m   1352\u001b[0m \u001b[1;33m\u001b[0m\u001b[0m\n",
      "\u001b[1;32mC:\\ProgramData\\Anaconda3\\lib\\site-packages\\numpy\\core\\fromnumeric.py\u001b[0m in \u001b[0;36m_wrapfunc\u001b[1;34m(obj, method, *args, **kwds)\u001b[0m\n\u001b[0;32m     55\u001b[0m \u001b[1;33m\u001b[0m\u001b[0m\n\u001b[0;32m     56\u001b[0m     \u001b[1;32mtry\u001b[0m\u001b[1;33m:\u001b[0m\u001b[1;33m\u001b[0m\u001b[1;33m\u001b[0m\u001b[0m\n\u001b[1;32m---> 57\u001b[1;33m         \u001b[1;32mreturn\u001b[0m \u001b[0mbound\u001b[0m\u001b[1;33m(\u001b[0m\u001b[1;33m*\u001b[0m\u001b[0margs\u001b[0m\u001b[1;33m,\u001b[0m \u001b[1;33m**\u001b[0m\u001b[0mkwds\u001b[0m\u001b[1;33m)\u001b[0m\u001b[1;33m\u001b[0m\u001b[1;33m\u001b[0m\u001b[0m\n\u001b[0m\u001b[0;32m     58\u001b[0m     \u001b[1;32mexcept\u001b[0m \u001b[0mTypeError\u001b[0m\u001b[1;33m:\u001b[0m\u001b[1;33m\u001b[0m\u001b[1;33m\u001b[0m\u001b[0m\n\u001b[0;32m     59\u001b[0m         \u001b[1;31m# A TypeError occurs if the object does have such a method in its\u001b[0m\u001b[1;33m\u001b[0m\u001b[1;33m\u001b[0m\u001b[0m\n",
      "\u001b[1;31mKeyboardInterrupt\u001b[0m: "
     ]
    }
   ],
   "source": [
    "DE_algos = DE_algo(cube_3d)\n",
    "OFV, traj = DE_algos.DE_planning()\n",
    "ofv_list = []"
   ]
  },
  {
   "cell_type": "code",
   "execution_count": 17,
   "id": "3e57711e",
   "metadata": {},
   "outputs": [],
   "source": [
    "# define objective function\n",
    "def obj(angles, *state):\n",
    "    x = np.linspace(0, cube_3d.shape[0] - 1, cube_3d.shape[0])\n",
    "    y = np.linspace(0, cube_3d.shape[1] - 1, cube_3d.shape[1])\n",
    "    z = np.linspace(0, cube_3d.shape[2] - 1, cube_3d.shape[2])\n",
    "    points = (x, y, z)\n",
    "    penalty = 0\n",
    "    vec_diff = get_vec(angles[0], angles[1])\n",
    "  #  vec_diff = get_vec(angles[0], 10)\n",
    "    state_new = [state[0][0] + vec_diff[0], state[0][1] + vec_diff[1], state[0][2] + vec_diff[2]]\n",
    "    \n",
    "    #dogleg severity constraint\n",
    "    dls_val = np.linalg.norm(angles[0] - state[1][-2]) + np.linalg.norm(angles[1] - state[2][-2])\n",
    "    if dls_val >= state[3] * state[4]:\n",
    "                penalty += dls_val * 0.5\n",
    "    \n",
    "    # contraint for high length action\n",
    "    length_constraint = np.linalg.norm(vec_diff)\n",
    "    # productivity potential \n",
    "    OFV = interpn(points, cube_3d, state_new, method = 'nearest') / length_constraint - penalty\n",
    "    ofv_list.append(OFV)\n",
    "    return -OFV"
   ]
  },
  {
   "cell_type": "code",
   "execution_count": 18,
   "id": "250ffbcc",
   "metadata": {},
   "outputs": [
    {
     "ename": "NameError",
     "evalue": "name 'get_vec' is not defined",
     "output_type": "error",
     "traceback": [
      "\u001b[1;31m---------------------------------------------------------------------------\u001b[0m",
      "\u001b[1;31mNameError\u001b[0m                                 Traceback (most recent call last)",
      "\u001b[1;32m~\\AppData\\Local\\Temp\\ipykernel_32136\\2113827230.py\u001b[0m in \u001b[0;36m<module>\u001b[1;34m\u001b[0m\n\u001b[1;32m----> 1\u001b[1;33m \u001b[0mobj\u001b[0m\u001b[1;33m(\u001b[0m\u001b[0mangles\u001b[0m\u001b[1;33m,\u001b[0m\u001b[1;33m*\u001b[0m\u001b[0mstate\u001b[0m\u001b[1;33m)\u001b[0m\u001b[1;33m\u001b[0m\u001b[1;33m\u001b[0m\u001b[0m\n\u001b[0m",
      "\u001b[1;32m~\\AppData\\Local\\Temp\\ipykernel_32136\\4084925436.py\u001b[0m in \u001b[0;36mobj\u001b[1;34m(angles, *state)\u001b[0m\n\u001b[0;32m      6\u001b[0m     \u001b[0mpoints\u001b[0m \u001b[1;33m=\u001b[0m \u001b[1;33m(\u001b[0m\u001b[0mx\u001b[0m\u001b[1;33m,\u001b[0m \u001b[0my\u001b[0m\u001b[1;33m,\u001b[0m \u001b[0mz\u001b[0m\u001b[1;33m)\u001b[0m\u001b[1;33m\u001b[0m\u001b[1;33m\u001b[0m\u001b[0m\n\u001b[0;32m      7\u001b[0m     \u001b[0mpenalty\u001b[0m \u001b[1;33m=\u001b[0m \u001b[1;36m0\u001b[0m\u001b[1;33m\u001b[0m\u001b[1;33m\u001b[0m\u001b[0m\n\u001b[1;32m----> 8\u001b[1;33m     \u001b[0mvec_diff\u001b[0m \u001b[1;33m=\u001b[0m \u001b[0mget_vec\u001b[0m\u001b[1;33m(\u001b[0m\u001b[0mangles\u001b[0m\u001b[1;33m[\u001b[0m\u001b[1;36m0\u001b[0m\u001b[1;33m]\u001b[0m\u001b[1;33m,\u001b[0m \u001b[0mangles\u001b[0m\u001b[1;33m[\u001b[0m\u001b[1;36m1\u001b[0m\u001b[1;33m]\u001b[0m\u001b[1;33m)\u001b[0m\u001b[1;33m\u001b[0m\u001b[1;33m\u001b[0m\u001b[0m\n\u001b[0m\u001b[0;32m      9\u001b[0m   \u001b[1;31m#  vec_diff = get_vec(angles[0], 10)\u001b[0m\u001b[1;33m\u001b[0m\u001b[1;33m\u001b[0m\u001b[0m\n\u001b[0;32m     10\u001b[0m     \u001b[0mstate_new\u001b[0m \u001b[1;33m=\u001b[0m \u001b[1;33m[\u001b[0m\u001b[0mstate\u001b[0m\u001b[1;33m[\u001b[0m\u001b[1;36m0\u001b[0m\u001b[1;33m]\u001b[0m\u001b[1;33m[\u001b[0m\u001b[1;36m0\u001b[0m\u001b[1;33m]\u001b[0m \u001b[1;33m+\u001b[0m \u001b[0mvec_diff\u001b[0m\u001b[1;33m[\u001b[0m\u001b[1;36m0\u001b[0m\u001b[1;33m]\u001b[0m\u001b[1;33m,\u001b[0m \u001b[0mstate\u001b[0m\u001b[1;33m[\u001b[0m\u001b[1;36m0\u001b[0m\u001b[1;33m]\u001b[0m\u001b[1;33m[\u001b[0m\u001b[1;36m1\u001b[0m\u001b[1;33m]\u001b[0m \u001b[1;33m+\u001b[0m \u001b[0mvec_diff\u001b[0m\u001b[1;33m[\u001b[0m\u001b[1;36m1\u001b[0m\u001b[1;33m]\u001b[0m\u001b[1;33m,\u001b[0m \u001b[0mstate\u001b[0m\u001b[1;33m[\u001b[0m\u001b[1;36m0\u001b[0m\u001b[1;33m]\u001b[0m\u001b[1;33m[\u001b[0m\u001b[1;36m2\u001b[0m\u001b[1;33m]\u001b[0m \u001b[1;33m+\u001b[0m \u001b[0mvec_diff\u001b[0m\u001b[1;33m[\u001b[0m\u001b[1;36m2\u001b[0m\u001b[1;33m]\u001b[0m\u001b[1;33m]\u001b[0m\u001b[1;33m\u001b[0m\u001b[1;33m\u001b[0m\u001b[0m\n",
      "\u001b[1;31mNameError\u001b[0m: name 'get_vec' is not defined"
     ]
    }
   ],
   "source": [
    "obj(angles,*state)"
   ]
  },
  {
   "cell_type": "code",
   "execution_count": 4,
   "id": "548ba92b",
   "metadata": {},
   "outputs": [],
   "source": [
    "# define population size\n",
    "pop_size = 100\n",
    "# define number of iterations\n",
    "iter = 100\n",
    "# define scale factor for mutation\n",
    "F = 0.8\n",
    "# define crossover rate for recombination\n",
    "cr = 0.7\n",
    "# \n",
    "bounds = [(0,180), (0, 92)]"
   ]
  },
  {
   "cell_type": "code",
   "execution_count": 5,
   "id": "c97456f4",
   "metadata": {},
   "outputs": [],
   "source": [
    "azi_l = [10,10]\n",
    "incl_l = [0,0]\n",
    "\n",
    "angle_constraint = 0.5\n",
    "length = 10\n",
    "\n",
    "state = ([120, 170, 40],incl_l,azi_l,angle_constraint, length)\n",
    "traj_x = [state[0][0]]\n",
    "traj_y = [state[0][1]]\n",
    "traj_z = [state[0][2]]\n",
    "angles = [0, 0]\n",
    "\n"
   ]
  },
  {
   "cell_type": "code",
   "execution_count": 236,
   "id": "46534bfb",
   "metadata": {
    "scrolled": true
   },
   "outputs": [],
   "source": [
    "result = differential_evolution(obj, bounds,args=(state), mutation = F, popsize = pop_size, maxiter=1000,  updating='deferred', disp = False)"
   ]
  },
  {
   "cell_type": "code",
   "execution_count": 237,
   "id": "bee8c134",
   "metadata": {},
   "outputs": [
    {
     "data": {
      "text/plain": [
       "     fun: -1.4214259234621158\n",
       " message: 'Optimization terminated successfully.'\n",
       "    nfev: 4003\n",
       "     nit: 19\n",
       " success: True\n",
       "       x: array([ 0.87080109, 11.7237643 ])"
      ]
     },
     "execution_count": 237,
     "metadata": {},
     "output_type": "execute_result"
    }
   ],
   "source": [
    "result"
   ]
  },
  {
   "cell_type": "code",
   "execution_count": 238,
   "id": "a2b84bbd",
   "metadata": {},
   "outputs": [
    {
     "name": "stdout",
     "output_type": "stream",
     "text": [
      "120.00300491202489 170.0293676674615 49.99995642543564\n",
      "120.0634699509719 170.4455937249219 59.99110750267174\n",
      "120.06552867244389 170.4834500034873 69.99103563560544\n",
      "120.23446583467044 171.57119852875175 79.93026414595793\n",
      "120.26135679442014 171.94743728790428 89.92314767737143\n",
      "120.49553024379505 173.04410486078444 99.8600729075521\n",
      "120.49607597435268 173.2416848098957 109.85812081031227\n",
      "120.88517848906781 175.10977888435667 119.67437385116274\n",
      "120.90908842147361 175.6665301705882 129.6588345937573\n",
      "121.3371796988591 177.5526921503854 139.4700083688055\n",
      "121.3382125958837 177.58600754136245 149.4699528195436\n",
      "121.78620376067691 179.56693599243914 159.2615423936619\n",
      "121.7918058354499 179.70632344885064 169.2605693340073\n",
      "122.37270351495916 181.90509825138415 178.998533559331\n",
      "122.41015108047482 182.4623450709738 188.98292506116496\n",
      "122.90566899138125 184.25366807863236 198.80868833341023\n",
      "122.90942923368969 184.4436498145671 208.80688281044402\n",
      "123.49668202830497 186.76940038629274 218.51492166663607\n",
      "123.49870252046016 186.9344508229047 228.5135592873815\n",
      "124.24671980120877 189.14461398322916 238.23753218699645\n",
      "124.26007011485066 189.35173888671085 248.23537800714607\n",
      "124.9376788388481 191.1830166548036 258.0428888102628\n",
      "124.96362075770804 191.376028387043 268.04099230482933\n",
      "125.4681744814192 193.0823717279058 277.88140987437293\n",
      "125.49448843144805 193.45215668421977 287.87453584486474\n",
      "125.87140376460358 194.827802113041 297.77228985705335\n",
      "125.93192876008227 195.50545977109803 307.7491188534529\n",
      "126.47032035894601 197.5093921589532 317.531469770854\n",
      "126.48757810736248 198.34915063002404 327.49613272954883\n",
      "127.18340091215745 200.52143034351133 337.2325094411751\n",
      "127.19329984018734 201.12940634844327 347.2140056811509\n",
      "127.98719281868595 203.79135482322116 356.8204495734723\n",
      "127.98879217913905 204.94114324466142 366.7541288529723\n",
      "128.76908688216656 207.3951764835903 376.41688524225685\n",
      "128.77527085894152 208.53920989162862 386.3512271590485\n",
      "129.3215281798264 210.35982206772937 396.1689139662151\n",
      "129.33703494636308 212.2751445392397 405.9837649263835\n",
      "130.05045745026734 214.66756362863805 415.6671196772746\n",
      "130.08801660260733 217.07792687843593 425.37220794653314\n",
      "130.67359231003235 219.4947344307514 435.0580812858838\n",
      "130.73091820283918 222.65114951802354 444.5466932781014\n",
      "131.150576756936 224.3657896403482 454.3896550248973\n",
      "131.35750636353376 227.87329891492197 463.75205636358663\n",
      "131.82777372537987 229.65054356038604 473.58161637808126\n",
      "132.01696414127002 233.82280419788717 482.667674277924\n",
      "132.44895938642694 235.7013039042419 492.48014690012207\n",
      "132.45672115606467 239.75412597346346 501.6220598853874\n",
      "132.83653959304576 241.2870793971798 511.49656198704525\n",
      "133.09385161837156 245.43596844853823 520.5916436338003\n",
      "133.439235309507 247.13010089842064 530.4410408411503\n",
      "133.48996435690768 251.2864642199018 539.5362082669648\n",
      "133.67863325483125 252.21558068306274 549.4911641505857\n",
      "133.7624902949501 257.0326301983525 558.2540975614972\n",
      "133.82397218925726 257.33394516546537 568.2493679063787\n",
      "133.91940966197296 261.4900781626551 577.3442813308415\n",
      "134.094261561753 262.260879039784 587.312997036536\n",
      "134.4522770179392 266.34970966556176 596.4318395643371\n",
      "134.485107223277 266.48853775813234 606.4308219594776\n",
      "134.6568783466794 270.81585049212345 615.4444149824293\n",
      "134.72870661689112 271.2010977469387 625.4367332946257\n",
      "134.97285272788324 275.44611888416335 634.4877104916472\n",
      "135.03120617650265 275.8992541020071 644.4772682070511\n",
      "135.2695774858179 279.4411984581696 653.825947755348\n",
      "135.27187786667614 279.4592586042562 663.8259311823028\n",
      "135.40676808775268 282.4639548435399 673.3628911349236\n",
      "135.41169177810423 282.51432998401697 683.362763039228\n",
      "135.43213965133012 285.430894557803 692.9279725492919\n",
      "135.43893596761592 285.4720129284003 702.927885703399\n",
      "135.49838489496926 288.7764310942034 712.3659621181431\n",
      "135.64144625078805 289.62428183949226 722.3289276687301\n",
      "135.71435275728228 292.2117755008106 731.9880974671107\n",
      "135.75836655597075 292.4591304724532 741.9849408840863\n",
      "135.8176938952755 294.25683101702907 751.8218485800465\n",
      "135.8675482955045 294.47941636701796 761.8192467566097\n",
      "135.89697677941572 295.46818949828963 771.7701995581865\n",
      "135.89786666223563 295.4719731047885 781.770198802808\n",
      "135.9073780386331 296.69141124084763 791.695564295627\n",
      "136.10606486205575 297.53763491321376 801.6577141159482\n",
      "136.11515811633822 299.5572733525618 811.4516396765717\n",
      "136.5070554947015 301.2008437032082 821.3078607042937\n",
      "136.52882312196198 303.8103753183748 830.9613507944036\n",
      "136.7706983402038 305.0856757150614 840.8767481781201\n",
      "136.82705838840056 307.17886016681274 850.6550610385227\n",
      "136.97074757241694 307.8743836057705 860.6298091839276\n",
      "137.00041309899686 310.58043263376334 870.2566684129093\n",
      "137.14815447759648 311.5473827994888 880.2087124171354\n",
      "137.17788245029948 313.49219162163166 890.0177304563152\n",
      "137.39275370892176 315.1006508011448 899.8851865322275\n",
      "137.42179535168165 316.415861662143 909.7982777238841\n",
      "137.5304438349911 317.2210354057597 919.7652176128202\n",
      "137.5783707676471 319.1327849046932 929.5806603874714\n",
      "137.80539962685646 320.62625198941424 939.4659026183903\n",
      "137.89908620372455 322.7903842694318 949.2284716603946\n",
      "138.20004356009076 324.2745509403187 959.1131402923052\n",
      "138.26249324210983 325.7187502493904 969.0081081241323\n",
      "138.48033956801373 326.7883515679008 978.9483543986332\n",
      "138.56823935067487 328.88222055923325 988.7262880389964\n",
      "138.95393724338183 330.6643268031286 998.5586496307519\n",
      "139.08340395336197 332.6920575964823 1008.3500512771299\n",
      "139.3376284433039 333.94045658867935 1018.2685627513882\n",
      "139.56249686074156 335.8920730758419 1028.0736954522686\n",
      "139.67975890000224 336.44625888673676 1038.0576389467576\n",
      "139.853075518527 338.6242498562969 1047.8160361863793\n",
      "140.0365477936731 339.61682017318566 1057.7649628666943\n",
      "140.29041666618255 342.1050794435906 1067.447117399587\n",
      "140.36585454449428 342.47512317238784 1077.4399836933633\n",
      "140.69259778103975 345.6527075292508 1086.916069199119\n",
      "140.76645531003675 346.0070280282886 1096.9095171551235\n",
      "140.9984150710211 348.47475148401713 1106.5974754341073\n",
      "140.99857877277975 348.4757771064768 1116.5974753801722\n",
      "141.1845173959908 350.99572218949527 1126.27297555365\n",
      "141.23201659587758 351.35699465407976 1136.2663346501872\n",
      "141.42630142544365 354.5126222437951 1145.7533925671617\n",
      "141.44428299800495 354.65372017904434 1155.7523809177758\n",
      "141.47517432764826 357.75950382834907 1165.257808506762\n",
      "141.49396476566318 357.8822430590333 1175.25703757708\n",
      "141.49915850293493 361.01328358962974 1184.7542244353479\n",
      "141.49986536988052 361.0173000159117 1194.7542236037807\n",
      "141.49991348409193 364.8964151230291 1203.9711898065732\n",
      "141.4999416981942 364.89654866660925 1213.9711898056416\n",
      "141.49996576328135 368.8183977403249 1223.1700538573828\n",
      "141.4999883579409 368.81848256126415 1233.1700538569976\n",
      "141.52542600795064 372.4520788802246 1242.4865086932966\n",
      "141.52672989582467 372.4558232496701 1252.4865079072754\n",
      "141.59283184992705 375.42173855915365 1262.0363234504487\n",
      "141.61280651030407 375.47465189249994 1272.0361635087745\n",
      "141.83468354376083 378.40134605960696 1281.5957258331828\n",
      "141.86744604526143 378.4927682964455 1291.5952542517186\n",
      "142.16817141415322 381.78512283250456 1301.0329428385176\n"
     ]
    }
   ],
   "source": [
    "OFV = 0\n",
    "\n",
    "x = np.linspace(0, cube_3d.shape[0] - 1, cube_3d.shape[0])\n",
    "y = np.linspace(0, cube_3d.shape[1] - 1, cube_3d.shape[1])\n",
    "z = np.linspace(0, cube_3d.shape[2] - 1, cube_3d.shape[2])\n",
    "points = (x,y,z)\n",
    "\n",
    "while (traj_z[-1] <= cube_3d.shape[2] - 20) and (traj_y[-1] <= cube_3d.shape[1] - 20) and \\\n",
    "(traj_x[-1] <= cube_3d.shape[0] - 20):\n",
    "    de_sol = differential_evolution(obj, bounds, args=(state),mutation = F, popsize = pop_size, maxiter=1000, updating='deferred', disp = False).x\n",
    "    incl_l.append(de_sol[0])\n",
    "    azi_l.append(de_sol[1])\n",
    "    step = get_vec(incl_l[-1], azi_l[-1])\n",
    "    \n",
    "    traj_x.append(state[0][0] + step[0])\n",
    "    traj_y.append(state[0][1] + step[1])\n",
    "    traj_z.append(state[0][2] + step[2])\n",
    "    print(traj_x[-1], traj_y[-1], traj_z[-1])\n",
    "    state[0][0] = state[0][0] + step[0]\n",
    "    state[0][1] = state[0][1] + step[1]\n",
    "    state[0][2] = state[0][2] + step[2]\n",
    "    state_new = [state[0][0], state[0][1], state[0][2]]\n",
    "    \n",
    "    OFV += interpn(points, cube_3d, state_new, method = 'nearest')\n",
    "       "
   ]
  },
  {
   "cell_type": "markdown",
   "id": "b9000bd9",
   "metadata": {},
   "source": [
    "pop_size = 100 OFV = 2103\n",
    "pop_size = 500 OFV = 2138\n",
    "\n",
    "\n",
    "angle_constraint = 10 OFV = 2539"
   ]
  },
  {
   "cell_type": "code",
   "execution_count": 239,
   "id": "28b894ad",
   "metadata": {},
   "outputs": [
    {
     "data": {
      "text/plain": [
       "array([1736.49621303])"
      ]
     },
     "execution_count": 239,
     "metadata": {},
     "output_type": "execute_result"
    }
   ],
   "source": [
    "OFV"
   ]
  },
  {
   "cell_type": "code",
   "execution_count": 218,
   "id": "04957ce9",
   "metadata": {},
   "outputs": [
    {
     "data": {
      "image/png": "[encoded data removed]",
      "text/plain": [
       "<Figure size 1500x1000 with 2 Axes>"
      ]
     },
     "metadata": {},
     "output_type": "display_data"
    }
   ],
   "source": [
    "def plot_results(volume_cube, traj_x, traj_y, traj_z, along_axis = 'y'):\n",
    "\n",
    "    x = []\n",
    "    z = []\n",
    "    y = []\n",
    "    property_along_y = []\n",
    "    property_along_x = []\n",
    "    property_along_z = []\n",
    "    for i in range(0,len(traj_x)):\n",
    "        x.append(traj_x[i])\n",
    "        z.append(traj_z[i])\n",
    "        y.append(traj_y[i])\n",
    "        property_along_y.append(volume_cube[round(traj_x[i]),:,round(traj_z[i])].T)\n",
    "        property_along_x.append(volume_cube[:,round(traj_y[i]),round(traj_z[i])].T)\n",
    "        property_along_z.append(volume_cube[round(traj_x[i]),round(traj_y[i]),:].T)\n",
    "\n",
    "    x_t = np.array(x)\n",
    "    z_t = np.array(z)\n",
    "    y_t = np.array(y)\n",
    "    \n",
    "    fig, ax = plt.subplots(1,1, figsize = (15,10))\n",
    "    property_along_y_arr = np.array(property_along_y)\n",
    "    property_along_x_arr = np.array(property_along_x)\n",
    "    property_along_z_arr = np.array(property_along_z)\n",
    "  #  ax.plot(z_t, color = 'r', linewidth = 3 )\n",
    "    ax.set_title('XZ trajectory projection')\n",
    "\n",
    "    #ax.imshow(property_along_z_arr.T[::-1])\n",
    "    if along_axis == 'y':\n",
    "        p_map = plt.imshow(cube_3d[:,round(traj_y[22]),:])\n",
    "      #  p_map = ax.imshow(property_along_y_arr, aspect='auto')\n",
    "        ax.plot(y_t, color = 'r', linewidth = 3 )\n",
    "    elif along_axis == 'z':\n",
    "        p_map = plt.imshow(cube_3d[round(traj_x[22]),:,:])\n",
    "       # p_map =  ax.imshow(property_along_z_arr.T, aspect='auto')\n",
    "        ax.plot(z_t,y_t, color = 'r', linewidth = 3 )\n",
    "    else:\n",
    "        p_map = plt.imshow(cube_3d[:,:,round(traj_z[22])])\n",
    "      #  p_map = ax.imshow(property_along_x_arr, aspect='auto')\n",
    "        ax.plot(x_t, color = 'r', linewidth = 3 )\n",
    "    plt.colorbar(p_map)\n",
    "    \n",
    "plot_results(cube_3d, traj_x, traj_y, traj_z, along_axis = 'z')"
   ]
  },
  {
   "cell_type": "code",
   "execution_count": 219,
   "id": "caa7b311",
   "metadata": {
    "scrolled": true
   },
   "outputs": [
    {
     "data": {
      "application/vnd.plotly.v1+json": {
       "config": {
        "plotlyServerURL": "https://plot.ly"
       },
       "data": [
        {
         "line": {
          "color": "red",
          "width": 7
         },
         "mode": "lines",
         "name": "survey_interpolated",
         "type": "scatter3d",
         "x": [
          120,
          120.04955802567177,
          120.07243030327238,
          120.2118935447468,
          120.29158856419163,
          120.46810343143696,
          120.49420695000101,
          120.7073099935138,
          120.75326205411068,
          121.06116529879378,
          121.14743845308193,
          121.4209972658464,
          121.46297271764634,
          121.58306602172706,
          121.65743854101937,
          121.67998683857887,
          121.71889433750674,
          121.78335829124411,
          121.83970671126123,
          121.8465454749016,
          121.88290150429665,
          121.89102737433572,
          121.98763857413738,
          122.02320223776826,
          122.05246728343458,
          122.15897076060838,
          122.3072679412977,
          122.32091201679435,
          122.454499946146,
          122.46229238016511,
          122.47570035110594,
          122.62608605290272,
          122.65014878539702,
          122.87288323054588,
          122.94859038268086,
          123.09341824649532,
          123.25995779382767,
          123.47211675980867,
          123.49522451675045,
          123.72750892858436,
          123.83677841183916,
          124.03445131457762,
          124.17144900514171,
          124.3497272726897,
          124.46338596577218,
          124.47175944047264,
          124.57445074995479,
          124.61119577267866,
          124.70317957485781,
          124.95969246357987,
          125.07387242058408,
          125.33020468427517,
          125.41722801556392,
          125.80950723404065,
          125.97631243118137,
          126.17416015006648,
          126.4974069972249,
          126.85124797661692,
          127.17338412004187,
          127.49392732982902,
          127.56262480135955,
          128.02289018278557,
          128.07586796438812,
          128.39418263663435,
          128.48817952653388,
          128.6090973967577,
          128.68485896556442,
          129.00375008495712,
          129.200809862337,
          129.46861692639177,
          129.62136177233933,
          129.80997328901805,
          129.84738135878334,
          129.9648724263172,
          130.02093448260763,
          130.0493591196824,
          130.07960635962507,
          130.35663722210103,
          130.4419509983986,
          130.451893420564,
          130.50920274556378,
          130.78556536153744,
          130.8328553852245,
          131.2598231293231,
          131.27575907209675,
          131.74410892478477,
          131.75845270379625,
          132.5373528966428,
          132.54283292665104,
          133.58452403072693,
          133.58777581841198,
          134.77135683547726,
          134.7838660841043,
          135.83804928231302,
          135.87569246115942,
          136.73376862991307,
          136.7677056752236,
          137.56662332998403,
          137.60053558624617,
          138.59583350216607,
          138.59696938488983,
          139.47769931519989,
          139.50022832271333,
          140.25206598141844,
          140.25807964837702,
          141.1678824835487,
          141.2108617280196,
          142.0621142860756,
          142.0742854567226,
          142.80493035274557,
          142.8688861114845,
          143.6559602767597,
          143.6819031392233,
          144.4991560943681,
          144.58899478919002,
          145.47883111897286,
          145.4994015829126,
          146.4825896300733,
          146.49721481426386,
          147.4475292472376,
          147.46596152179544,
          148.17145915490988,
          148.22837989176654,
          149.1639895557805,
          149.29634186267424,
          150.31759873424733,
          150.3699853099904,
          151.31365629870928,
          151.36042382885665,
          152.17947481509032,
          152.2186660617188,
          152.9737893730674,
          153.03424333797562,
          153.7030326269051,
          153.83570663074758,
          154.49632070084942,
          154.58587361432436,
          155.11278748533465,
          155.13718983186277,
          155.9287718934813,
          155.9347003264025,
          156.58941269270096,
          156.59069044293065,
          157.22252502539155
         ],
         "y": [
          40,
          49.99620232801826,
          59.994306743321424,
          69.96763258791337,
          79.94619181764318,
          89.90159316336319,
          99.89149972599215,
          109.79178202190448,
          119.7427967324195,
          129.640894826698,
          139.5070218372749,
          149.4215107534045,
          159.28919319669677,
          169.270341744943,
          179.00405707809708,
          189.00351962021566,
          198.72080818681616,
          208.71571901376703,
          218.46623030508124,
          228.46615913773746,
          238.27698217295531,
          248.27692730168417,
          258.12904486617407,
          268.1273254688484,
          277.9760974066146,
          287.9606647406913,
          297.76386446631864,
          307.7636636995087,
          317.6335781624201,
          327.6335312543016,
          337.5152569450149,
          347.49659338695113,
          357.25111539601,
          367.20125988008226,
          377.017363346742,
          386.9965781290641,
          396.6891640050515,
          406.6528960545753,
          416.3149439541123,
          426.2712865595065,
          435.87482818724743,
          445.8477353860533,
          455.21876197593923,
          465.20092815826456,
          474.7806030540814,
          484.7805614888352,
          494.24185403225545,
          504.2410435451621,
          513.4716481120415,
          523.4353289335181,
          532.3462910512203,
          542.3002767737987,
          551.2163253576632,
          561.122880976591,
          569.7600712997724,
          579.737461283235,
          588.2903033205931,
          598.2187223777352,
          606.4698295649359,
          616.3768204796662,
          624.6510030762087,
          634.5358808021197,
          643.2504071446012,
          653.2018196713924,
          662.2578091023653,
          672.2507010124741,
          681.6367558872829,
          691.5931291098316,
          700.989210288785,
          710.9483761818359,
          720.5978587203476,
          730.5795468276269,
          740.3258882293312,
          750.3196493256255,
          760.1711268683323,
          770.1707953544094,
          779.9773984442218,
          789.9457319933674,
          799.8246040242916,
          809.8245650310076,
          819.7815355665199,
          829.7517192820941,
          839.6489477373731,
          849.5898716255894,
          859.5650459160678,
          869.5127160747933,
          879.5061558549917,
          889.3702925233849,
          899.3698494501122,
          909.1115849753377,
          919.1083609384347,
          928.7850966635342,
          938.7349233545344,
          948.4987629927681,
          958.4385432955494,
          968.2616358071365,
          978.1831452275804,
          988.049189636029,
          998.0103187483375,
          1007.8359783695057,
          1017.835936808038,
          1027.6638751847488,
          1037.6607451420696,
          1047.5213027888296,
          1057.5211696029082,
          1067.307976680862,
          1077.2973066042914,
          1087.0740137717037,
          1097.073368427083,
          1106.8819243730995,
          1116.8644011926135,
          1126.5926342401945,
          1136.5853685541208,
          1146.206183493239,
          1156.152733219375,
          1165.7737729876146,
          1175.7705498109372,
          1185.2506844885595,
          1195.2499055513465,
          1204.8231353984872,
          1214.8225214798829,
          1224.5883396277295,
          1234.5777319636393,
          1244.225186745663,
          1254.1544087355335,
          1263.6666549764375,
          1273.6508132872768,
          1283.2664813575384,
          1293.2409558692887,
          1302.9824825917092,
          1312.9255771382684,
          1322.7206981590523,
          1332.6407218156107,
          1342.4861938347906,
          1352.3833626247342,
          1362.1887076412988,
          1372.145488284175,
          1382.0148184755976,
          1392.0121662389795,
          1401.7140645603363,
          1411.7123797608915,
          1421.463073459846,
          1431.4627792651295,
          1441.2347148917177
         ],
         "z": [
          170,
          170.27107751550753,
          170.46442942165993,
          171.1808940766652,
          171.83051273607217,
          172.7572416863471,
          173.2056672389881,
          174.598146163098,
          175.58566560049684,
          176.97593525346124,
          178.60446058455514,
          179.88042104942144,
          181.5012483874769,
          182.10312151044945,
          184.3942466797703,
          184.49544175398051,
          186.85611731829312,
          187.1685304421671,
          189.387619086975,
          189.42472128533083,
          191.3602908683645,
          191.3924061707642,
          193.10309193137073,
          193.28508153551155,
          195.01737333396,
          195.56241659888306,
          197.53099046990243,
          197.5928704755249,
          199.19503861899298,
          199.2246602013695,
          200.7580608664964,
          201.3499282279649,
          203.55190946305564,
          204.5240278267492,
          206.43148193077005,
          207.05941283313615,
          209.51421295041322,
          210.3382470628416,
          212.915900340267,
          213.81993898768854,
          216.60562532758323,
          217.3141783796052,
          220.80202761436726,
          221.37174260255074,
          224.2382580118838,
          224.2658476497566,
          227.50211060303724,
          227.62400764271956,
          231.4694566815239,
          232.28140842002801,
          236.81811615519172,
          237.74140484530832,
          242.26871139445873,
          243.57495516337846,
          248.61193038143804,
          249.25422735172052,
          254.42572660820326,
          255.56646829109286,
          261.2069876368998,
          262.5294032546655,
          268.14484473477006,
          269.5861455786088,
          274.4906561536664,
          275.42235593957156,
          279.6626648918528,
          280.01972250841015,
          283.4688142833227,
          284.3457069262891,
          287.7625513656302,
          288.62469641788886,
          291.24464980506855,
          291.8193916817186,
          294.0571204225945,
          294.3901894833673,
          296.10636175659283,
          296.1826651547019,
          298.139606886936,
          298.88497938053456,
          300.4343692463198,
          300.46046546061467,
          301.38537269715783,
          302.1058311499444,
          303.53503811804745,
          304.5329012320018,
          305.23692106148536,
          306.1449446452591,
          306.5068225466996,
          307.95323959473365,
          308.04721426372777,
          310.050578584127,
          310.3044678700818,
          312.53155603237485,
          313.53195212280997,
          315.417723398302,
          316.5128720290947,
          318.17737159275265,
          319.4273712315516,
          320.84965752883227,
          321.72986021389835,
          323.3001452413725,
          323.32895387544363,
          324.95251232940547,
          325.2016779374591,
          326.6863135930578,
          326.73757309462184,
          328.5789492159027,
          329.0387757760569,
          330.9600685817152,
          331.07302139729967,
          332.87812202878246,
          333.4663959520436,
          335.64400841304496,
          336.0242555684162,
          338.6265656027022,
          339.6551945709966,
          342.23274866046825,
          342.48579016041157,
          345.5124034092527,
          345.63635598690007,
          348.3658564489433,
          348.47511873176353,
          350.50762186653543,
          350.9645691162076,
          353.42449813660903,
          354.60476655638956,
          357.5158154832667,
          358.0760283631433,
          360.65447995811354,
          361.36699031773463,
          363.47217738740676,
          364.5367594107244,
          366.403680130213,
          367.6644243435433,
          369.2828808942602,
          370.707116672518,
          372.5561159035923,
          373.4805073279011,
          375.00322967462427,
          375.2322323459748,
          377.52277088565853,
          377.7062320641986,
          379.82645000266257,
          379.9031453424053,
          381.93047342888366
         ]
        }
       ],
       "layout": {
        "margin": {
         "b": 10,
         "l": 10,
         "r": 20,
         "t": 10
        },
        "scene": {
         "yaxis": {
          "title": {
           "text": "Drilling direction"
          }
         },
         "zaxis": {
          "autorange": "reversed",
          "title": {
           "text": "True vertical depth (TVD)"
          }
         }
        },
        "template": {
         "data": {
          "bar": [
           {
            "error_x": {
             "color": "#2a3f5f"
            },
            "error_y": {
             "color": "#2a3f5f"
            },
            "marker": {
             "line": {
              "color": "#E5ECF6",
              "width": 0.5
             },
             "pattern": {
              "fillmode": "overlay",
              "size": 10,
              "solidity": 0.2
             }
            },
            "type": "bar"
           }
          ],
          "barpolar": [
           {
            "marker": {
             "line": {
              "color": "#E5ECF6",
              "width": 0.5
             },
             "pattern": {
              "fillmode": "overlay",
              "size": 10,
              "solidity": 0.2
             }
            },
            "type": "barpolar"
           }
          ],
          "carpet": [
           {
            "aaxis": {
             "endlinecolor": "#2a3f5f",
             "gridcolor": "white",
             "linecolor": "white",
             "minorgridcolor": "white",
             "startlinecolor": "#2a3f5f"
            },
            "baxis": {
             "endlinecolor": "#2a3f5f",
             "gridcolor": "white",
             "linecolor": "white",
             "minorgridcolor": "white",
             "startlinecolor": "#2a3f5f"
            },
            "type": "carpet"
           }
          ],
          "choropleth": [
           {
            "colorbar": {
             "outlinewidth": 0,
             "ticks": ""
            },
            "type": "choropleth"
           }
          ],
          "contour": [
           {
            "colorbar": {
             "outlinewidth": 0,
             "ticks": ""
            },
            "colorscale": [
             [
              0,
              "#0d0887"
             ],
             [
              0.1111111111111111,
              "#46039f"
             ],
             [
              0.2222222222222222,
              "#7201a8"
             ],
             [
              0.3333333333333333,
              "#9c179e"
             ],
             [
              0.4444444444444444,
              "#bd3786"
             ],
             [
              0.5555555555555556,
              "#d8576b"
             ],
             [
              0.6666666666666666,
              "#ed7953"
             ],
             [
              0.7777777777777778,
              "#fb9f3a"
             ],
             [
              0.8888888888888888,
              "#fdca26"
             ],
             [
              1,
              "#f0f921"
             ]
            ],
            "type": "contour"
           }
          ],
          "contourcarpet": [
           {
            "colorbar": {
             "outlinewidth": 0,
             "ticks": ""
            },
            "type": "contourcarpet"
           }
          ],
          "heatmap": [
           {
            "colorbar": {
             "outlinewidth": 0,
             "ticks": ""
            },
            "colorscale": [
             [
              0,
              "#0d0887"
             ],
             [
              0.1111111111111111,
              "#46039f"
             ],
             [
              0.2222222222222222,
              "#7201a8"
             ],
             [
              0.3333333333333333,
              "#9c179e"
             ],
             [
              0.4444444444444444,
              "#bd3786"
             ],
             [
              0.5555555555555556,
              "#d8576b"
             ],
             [
              0.6666666666666666,
              "#ed7953"
             ],
             [
              0.7777777777777778,
              "#fb9f3a"
             ],
             [
              0.8888888888888888,
              "#fdca26"
             ],
             [
              1,
              "#f0f921"
             ]
            ],
            "type": "heatmap"
           }
          ],
          "heatmapgl": [
           {
            "colorbar": {
             "outlinewidth": 0,
             "ticks": ""
            },
            "colorscale": [
             [
              0,
              "#0d0887"
             ],
             [
              0.1111111111111111,
              "#46039f"
             ],
             [
              0.2222222222222222,
              "#7201a8"
             ],
             [
              0.3333333333333333,
              "#9c179e"
             ],
             [
              0.4444444444444444,
              "#bd3786"
             ],
             [
              0.5555555555555556,
              "#d8576b"
             ],
             [
              0.6666666666666666,
              "#ed7953"
             ],
             [
              0.7777777777777778,
              "#fb9f3a"
             ],
             [
              0.8888888888888888,
              "#fdca26"
             ],
             [
              1,
              "#f0f921"
             ]
            ],
            "type": "heatmapgl"
           }
          ],
          "histogram": [
           {
            "marker": {
             "pattern": {
              "fillmode": "overlay",
              "size": 10,
              "solidity": 0.2
             }
            },
            "type": "histogram"
           }
          ],
          "histogram2d": [
           {
            "colorbar": {
             "outlinewidth": 0,
             "ticks": ""
            },
            "colorscale": [
             [
              0,
              "#0d0887"
             ],
             [
              0.1111111111111111,
              "#46039f"
             ],
             [
              0.2222222222222222,
              "#7201a8"
             ],
             [
              0.3333333333333333,
              "#9c179e"
             ],
             [
              0.4444444444444444,
              "#bd3786"
             ],
             [
              0.5555555555555556,
              "#d8576b"
             ],
             [
              0.6666666666666666,
              "#ed7953"
             ],
             [
              0.7777777777777778,
              "#fb9f3a"
             ],
             [
              0.8888888888888888,
              "#fdca26"
             ],
             [
              1,
              "#f0f921"
             ]
            ],
            "type": "histogram2d"
           }
          ],
          "histogram2dcontour": [
           {
            "colorbar": {
             "outlinewidth": 0,
             "ticks": ""
            },
            "colorscale": [
             [
              0,
              "#0d0887"
             ],
             [
              0.1111111111111111,
              "#46039f"
             ],
             [
              0.2222222222222222,
              "#7201a8"
             ],
             [
              0.3333333333333333,
              "#9c179e"
             ],
             [
              0.4444444444444444,
              "#bd3786"
             ],
             [
              0.5555555555555556,
              "#d8576b"
             ],
             [
              0.6666666666666666,
              "#ed7953"
             ],
             [
              0.7777777777777778,
              "#fb9f3a"
             ],
             [
              0.8888888888888888,
              "#fdca26"
             ],
             [
              1,
              "#f0f921"
             ]
            ],
            "type": "histogram2dcontour"
           }
          ],
          "mesh3d": [
           {
            "colorbar": {
             "outlinewidth": 0,
             "ticks": ""
            },
            "type": "mesh3d"
           }
          ],
          "parcoords": [
           {
            "line": {
             "colorbar": {
              "outlinewidth": 0,
              "ticks": ""
             }
            },
            "type": "parcoords"
           }
          ],
          "pie": [
           {
            "automargin": true,
            "type": "pie"
           }
          ],
          "scatter": [
           {
            "fillpattern": {
             "fillmode": "overlay",
             "size": 10,
             "solidity": 0.2
            },
            "type": "scatter"
           }
          ],
          "scatter3d": [
           {
            "line": {
             "colorbar": {
              "outlinewidth": 0,
              "ticks": ""
             }
            },
            "marker": {
             "colorbar": {
              "outlinewidth": 0,
              "ticks": ""
             }
            },
            "type": "scatter3d"
           }
          ],
          "scattercarpet": [
           {
            "marker": {
             "colorbar": {
              "outlinewidth": 0,
              "ticks": ""
             }
            },
            "type": "scattercarpet"
           }
          ],
          "scattergeo": [
           {
            "marker": {
             "colorbar": {
              "outlinewidth": 0,
              "ticks": ""
             }
            },
            "type": "scattergeo"
           }
          ],
          "scattergl": [
           {
            "marker": {
             "colorbar": {
              "outlinewidth": 0,
              "ticks": ""
             }
            },
            "type": "scattergl"
           }
          ],
          "scattermapbox": [
           {
            "marker": {
             "colorbar": {
              "outlinewidth": 0,
              "ticks": ""
             }
            },
            "type": "scattermapbox"
           }
          ],
          "scatterpolar": [
           {
            "marker": {
             "colorbar": {
              "outlinewidth": 0,
              "ticks": ""
             }
            },
            "type": "scatterpolar"
           }
          ],
          "scatterpolargl": [
           {
            "marker": {
             "colorbar": {
              "outlinewidth": 0,
              "ticks": ""
             }
            },
            "type": "scatterpolargl"
           }
          ],
          "scatterternary": [
           {
            "marker": {
             "colorbar": {
              "outlinewidth": 0,
              "ticks": ""
             }
            },
            "type": "scatterternary"
           }
          ],
          "surface": [
           {
            "colorbar": {
             "outlinewidth": 0,
             "ticks": ""
            },
            "colorscale": [
             [
              0,
              "#0d0887"
             ],
             [
              0.1111111111111111,
              "#46039f"
             ],
             [
              0.2222222222222222,
              "#7201a8"
             ],
             [
              0.3333333333333333,
              "#9c179e"
             ],
             [
              0.4444444444444444,
              "#bd3786"
             ],
             [
              0.5555555555555556,
              "#d8576b"
             ],
             [
              0.6666666666666666,
              "#ed7953"
             ],
             [
              0.7777777777777778,
              "#fb9f3a"
             ],
             [
              0.8888888888888888,
              "#fdca26"
             ],
             [
              1,
              "#f0f921"
             ]
            ],
            "type": "surface"
           }
          ],
          "table": [
           {
            "cells": {
             "fill": {
              "color": "#EBF0F8"
             },
             "line": {
              "color": "white"
             }
            },
            "header": {
             "fill": {
              "color": "#C8D4E3"
             },
             "line": {
              "color": "white"
             }
            },
            "type": "table"
           }
          ]
         },
         "layout": {
          "annotationdefaults": {
           "arrowcolor": "#2a3f5f",
           "arrowhead": 0,
           "arrowwidth": 1
          },
          "autotypenumbers": "strict",
          "coloraxis": {
           "colorbar": {
            "outlinewidth": 0,
            "ticks": ""
           }
          },
          "colorscale": {
           "diverging": [
            [
             0,
             "#8e0152"
            ],
            [
             0.1,
             "#c51b7d"
            ],
            [
             0.2,
             "#de77ae"
            ],
            [
             0.3,
             "#f1b6da"
            ],
            [
             0.4,
             "#fde0ef"
            ],
            [
             0.5,
             "#f7f7f7"
            ],
            [
             0.6,
             "#e6f5d0"
            ],
            [
             0.7,
             "#b8e186"
            ],
            [
             0.8,
             "#7fbc41"
            ],
            [
             0.9,
             "#4d9221"
            ],
            [
             1,
             "#276419"
            ]
           ],
           "sequential": [
            [
             0,
             "#0d0887"
            ],
            [
             0.1111111111111111,
             "#46039f"
            ],
            [
             0.2222222222222222,
             "#7201a8"
            ],
            [
             0.3333333333333333,
             "#9c179e"
            ],
            [
             0.4444444444444444,
             "#bd3786"
            ],
            [
             0.5555555555555556,
             "#d8576b"
            ],
            [
             0.6666666666666666,
             "#ed7953"
            ],
            [
             0.7777777777777778,
             "#fb9f3a"
            ],
            [
             0.8888888888888888,
             "#fdca26"
            ],
            [
             1,
             "#f0f921"
            ]
           ],
           "sequentialminus": [
            [
             0,
             "#0d0887"
            ],
            [
             0.1111111111111111,
             "#46039f"
            ],
            [
             0.2222222222222222,
             "#7201a8"
            ],
            [
             0.3333333333333333,
             "#9c179e"
            ],
            [
             0.4444444444444444,
             "#bd3786"
            ],
            [
             0.5555555555555556,
             "#d8576b"
            ],
            [
             0.6666666666666666,
             "#ed7953"
            ],
            [
             0.7777777777777778,
             "#fb9f3a"
            ],
            [
             0.8888888888888888,
             "#fdca26"
            ],
            [
             1,
             "#f0f921"
            ]
           ]
          },
          "colorway": [
           "#636efa",
           "#EF553B",
           "#00cc96",
           "#ab63fa",
           "#FFA15A",
           "#19d3f3",
           "#FF6692",
           "#B6E880",
           "#FF97FF",
           "#FECB52"
          ],
          "font": {
           "color": "#2a3f5f"
          },
          "geo": {
           "bgcolor": "white",
           "lakecolor": "white",
           "landcolor": "#E5ECF6",
           "showlakes": true,
           "showland": true,
           "subunitcolor": "white"
          },
          "hoverlabel": {
           "align": "left"
          },
          "hovermode": "closest",
          "mapbox": {
           "style": "light"
          },
          "paper_bgcolor": "white",
          "plot_bgcolor": "#E5ECF6",
          "polar": {
           "angularaxis": {
            "gridcolor": "white",
            "linecolor": "white",
            "ticks": ""
           },
           "bgcolor": "#E5ECF6",
           "radialaxis": {
            "gridcolor": "white",
            "linecolor": "white",
            "ticks": ""
           }
          },
          "scene": {
           "xaxis": {
            "backgroundcolor": "#E5ECF6",
            "gridcolor": "white",
            "gridwidth": 2,
            "linecolor": "white",
            "showbackground": true,
            "ticks": "",
            "zerolinecolor": "white"
           },
           "yaxis": {
            "backgroundcolor": "#E5ECF6",
            "gridcolor": "white",
            "gridwidth": 2,
            "linecolor": "white",
            "showbackground": true,
            "ticks": "",
            "zerolinecolor": "white"
           },
           "zaxis": {
            "backgroundcolor": "#E5ECF6",
            "gridcolor": "white",
            "gridwidth": 2,
            "linecolor": "white",
            "showbackground": true,
            "ticks": "",
            "zerolinecolor": "white"
           }
          },
          "shapedefaults": {
           "line": {
            "color": "#2a3f5f"
           }
          },
          "ternary": {
           "aaxis": {
            "gridcolor": "white",
            "linecolor": "white",
            "ticks": ""
           },
           "baxis": {
            "gridcolor": "white",
            "linecolor": "white",
            "ticks": ""
           },
           "bgcolor": "#E5ECF6",
           "caxis": {
            "gridcolor": "white",
            "linecolor": "white",
            "ticks": ""
           }
          },
          "title": {
           "x": 0.05
          },
          "xaxis": {
           "automargin": true,
           "gridcolor": "white",
           "linecolor": "white",
           "ticks": "",
           "title": {
            "standoff": 15
           },
           "zerolinecolor": "white",
           "zerolinewidth": 2
          },
          "yaxis": {
           "automargin": true,
           "gridcolor": "white",
           "linecolor": "white",
           "ticks": "",
           "title": {
            "standoff": 15
           },
           "zerolinecolor": "white",
           "zerolinewidth": 2
          }
         }
        },
        "width": 700
       }
      },
      "text/html": [
       "<div>                            <div id=\"451c6a77-8cd4-4de3-8917-28de21a8dad5\" class=\"plotly-graph-div\" style=\"height:525px; width:700px;\"></div>            <script type=\"text/javascript\">                require([\"plotly\"], function(Plotly) {                    window.PLOTLYENV=window.PLOTLYENV || {};                                    if (document.getElementById(\"451c6a77-8cd4-4de3-8917-28de21a8dad5\")) {                    Plotly.newPlot(                        \"451c6a77-8cd4-4de3-8917-28de21a8dad5\",                        [{\"line\":{\"color\":\"red\",\"width\":7},\"mode\":\"lines\",\"name\":\"survey_interpolated\",\"x\":[120,120.04955802567177,120.07243030327238,120.2118935447468,120.29158856419163,120.46810343143696,120.49420695000101,120.7073099935138,120.75326205411068,121.06116529879378,121.14743845308193,121.4209972658464,121.46297271764634,121.58306602172706,121.65743854101937,121.67998683857887,121.71889433750674,121.78335829124411,121.83970671126123,121.8465454749016,121.88290150429665,121.89102737433572,121.98763857413738,122.02320223776826,122.05246728343458,122.15897076060838,122.3072679412977,122.32091201679435,122.454499946146,122.46229238016511,122.47570035110594,122.62608605290272,122.65014878539702,122.87288323054588,122.94859038268086,123.09341824649532,123.25995779382767,123.47211675980867,123.49522451675045,123.72750892858436,123.83677841183916,124.03445131457762,124.17144900514171,124.3497272726897,124.46338596577218,124.47175944047264,124.57445074995479,124.61119577267866,124.70317957485781,124.95969246357987,125.07387242058408,125.33020468427517,125.41722801556392,125.80950723404065,125.97631243118137,126.17416015006648,126.4974069972249,126.85124797661692,127.17338412004187,127.49392732982902,127.56262480135955,128.02289018278557,128.07586796438812,128.39418263663435,128.48817952653388,128.6090973967577,128.68485896556442,129.00375008495712,129.200809862337,129.46861692639177,129.62136177233933,129.80997328901805,129.84738135878334,129.9648724263172,130.02093448260763,130.0493591196824,130.07960635962507,130.35663722210103,130.4419509983986,130.451893420564,130.50920274556378,130.78556536153744,130.8328553852245,131.2598231293231,131.27575907209675,131.74410892478477,131.75845270379625,132.5373528966428,132.54283292665104,133.58452403072693,133.58777581841198,134.77135683547726,134.7838660841043,135.83804928231302,135.87569246115942,136.73376862991307,136.7677056752236,137.56662332998403,137.60053558624617,138.59583350216607,138.59696938488983,139.47769931519989,139.50022832271333,140.25206598141844,140.25807964837702,141.1678824835487,141.2108617280196,142.0621142860756,142.0742854567226,142.80493035274557,142.8688861114845,143.6559602767597,143.6819031392233,144.4991560943681,144.58899478919002,145.47883111897286,145.4994015829126,146.4825896300733,146.49721481426386,147.4475292472376,147.46596152179544,148.17145915490988,148.22837989176654,149.1639895557805,149.29634186267424,150.31759873424733,150.3699853099904,151.31365629870928,151.36042382885665,152.17947481509032,152.2186660617188,152.9737893730674,153.03424333797562,153.7030326269051,153.83570663074758,154.49632070084942,154.58587361432436,155.11278748533465,155.13718983186277,155.9287718934813,155.9347003264025,156.58941269270096,156.59069044293065,157.22252502539155],\"y\":[40,49.99620232801826,59.994306743321424,69.96763258791337,79.94619181764318,89.90159316336319,99.89149972599215,109.79178202190448,119.7427967324195,129.640894826698,139.5070218372749,149.4215107534045,159.28919319669677,169.270341744943,179.00405707809708,189.00351962021566,198.72080818681616,208.71571901376703,218.46623030508124,228.46615913773746,238.27698217295531,248.27692730168417,258.12904486617407,268.1273254688484,277.9760974066146,287.9606647406913,297.76386446631864,307.7636636995087,317.6335781624201,327.6335312543016,337.5152569450149,347.49659338695113,357.25111539601,367.20125988008226,377.017363346742,386.9965781290641,396.6891640050515,406.6528960545753,416.3149439541123,426.2712865595065,435.87482818724743,445.8477353860533,455.21876197593923,465.20092815826456,474.7806030540814,484.7805614888352,494.24185403225545,504.2410435451621,513.4716481120415,523.4353289335181,532.3462910512203,542.3002767737987,551.2163253576632,561.122880976591,569.7600712997724,579.737461283235,588.2903033205931,598.2187223777352,606.4698295649359,616.3768204796662,624.6510030762087,634.5358808021197,643.2504071446012,653.2018196713924,662.2578091023653,672.2507010124741,681.6367558872829,691.5931291098316,700.989210288785,710.9483761818359,720.5978587203476,730.5795468276269,740.3258882293312,750.3196493256255,760.1711268683323,770.1707953544094,779.9773984442218,789.9457319933674,799.8246040242916,809.8245650310076,819.7815355665199,829.7517192820941,839.6489477373731,849.5898716255894,859.5650459160678,869.5127160747933,879.5061558549917,889.3702925233849,899.3698494501122,909.1115849753377,919.1083609384347,928.7850966635342,938.7349233545344,948.4987629927681,958.4385432955494,968.2616358071365,978.1831452275804,988.049189636029,998.0103187483375,1007.8359783695057,1017.835936808038,1027.6638751847488,1037.6607451420696,1047.5213027888296,1057.5211696029082,1067.307976680862,1077.2973066042914,1087.0740137717037,1097.073368427083,1106.8819243730995,1116.8644011926135,1126.5926342401945,1136.5853685541208,1146.206183493239,1156.152733219375,1165.7737729876146,1175.7705498109372,1185.2506844885595,1195.2499055513465,1204.8231353984872,1214.8225214798829,1224.5883396277295,1234.5777319636393,1244.225186745663,1254.1544087355335,1263.6666549764375,1273.6508132872768,1283.2664813575384,1293.2409558692887,1302.9824825917092,1312.9255771382684,1322.7206981590523,1332.6407218156107,1342.4861938347906,1352.3833626247342,1362.1887076412988,1372.145488284175,1382.0148184755976,1392.0121662389795,1401.7140645603363,1411.7123797608915,1421.463073459846,1431.4627792651295,1441.2347148917177],\"z\":[170,170.27107751550753,170.46442942165993,171.1808940766652,171.83051273607217,172.7572416863471,173.2056672389881,174.598146163098,175.58566560049684,176.97593525346124,178.60446058455514,179.88042104942144,181.5012483874769,182.10312151044945,184.3942466797703,184.49544175398051,186.85611731829312,187.1685304421671,189.387619086975,189.42472128533083,191.3602908683645,191.3924061707642,193.10309193137073,193.28508153551155,195.01737333396,195.56241659888306,197.53099046990243,197.5928704755249,199.19503861899298,199.2246602013695,200.7580608664964,201.3499282279649,203.55190946305564,204.5240278267492,206.43148193077005,207.05941283313615,209.51421295041322,210.3382470628416,212.915900340267,213.81993898768854,216.60562532758323,217.3141783796052,220.80202761436726,221.37174260255074,224.2382580118838,224.2658476497566,227.50211060303724,227.62400764271956,231.4694566815239,232.28140842002801,236.81811615519172,237.74140484530832,242.26871139445873,243.57495516337846,248.61193038143804,249.25422735172052,254.42572660820326,255.56646829109286,261.2069876368998,262.5294032546655,268.14484473477006,269.5861455786088,274.4906561536664,275.42235593957156,279.6626648918528,280.01972250841015,283.4688142833227,284.3457069262891,287.7625513656302,288.62469641788886,291.24464980506855,291.8193916817186,294.0571204225945,294.3901894833673,296.10636175659283,296.1826651547019,298.139606886936,298.88497938053456,300.4343692463198,300.46046546061467,301.38537269715783,302.1058311499444,303.53503811804745,304.5329012320018,305.23692106148536,306.1449446452591,306.5068225466996,307.95323959473365,308.04721426372777,310.050578584127,310.3044678700818,312.53155603237485,313.53195212280997,315.417723398302,316.5128720290947,318.17737159275265,319.4273712315516,320.84965752883227,321.72986021389835,323.3001452413725,323.32895387544363,324.95251232940547,325.2016779374591,326.6863135930578,326.73757309462184,328.5789492159027,329.0387757760569,330.9600685817152,331.07302139729967,332.87812202878246,333.4663959520436,335.64400841304496,336.0242555684162,338.6265656027022,339.6551945709966,342.23274866046825,342.48579016041157,345.5124034092527,345.63635598690007,348.3658564489433,348.47511873176353,350.50762186653543,350.9645691162076,353.42449813660903,354.60476655638956,357.5158154832667,358.0760283631433,360.65447995811354,361.36699031773463,363.47217738740676,364.5367594107244,366.403680130213,367.6644243435433,369.2828808942602,370.707116672518,372.5561159035923,373.4805073279011,375.00322967462427,375.2322323459748,377.52277088565853,377.7062320641986,379.82645000266257,379.9031453424053,381.93047342888366],\"type\":\"scatter3d\"}],                        {\"template\":{\"data\":{\"histogram2dcontour\":[{\"type\":\"histogram2dcontour\",\"colorbar\":{\"outlinewidth\":0,\"ticks\":\"\"},\"colorscale\":[[0.0,\"#0d0887\"],[0.1111111111111111,\"#46039f\"],[0.2222222222222222,\"#7201a8\"],[0.3333333333333333,\"#9c179e\"],[0.4444444444444444,\"#bd3786\"],[0.5555555555555556,\"#d8576b\"],[0.6666666666666666,\"#ed7953\"],[0.7777777777777778,\"#fb9f3a\"],[0.8888888888888888,\"#fdca26\"],[1.0,\"#f0f921\"]]}],\"choropleth\":[{\"type\":\"choropleth\",\"colorbar\":{\"outlinewidth\":0,\"ticks\":\"\"}}],\"histogram2d\":[{\"type\":\"histogram2d\",\"colorbar\":{\"outlinewidth\":0,\"ticks\":\"\"},\"colorscale\":[[0.0,\"#0d0887\"],[0.1111111111111111,\"#46039f\"],[0.2222222222222222,\"#7201a8\"],[0.3333333333333333,\"#9c179e\"],[0.4444444444444444,\"#bd3786\"],[0.5555555555555556,\"#d8576b\"],[0.6666666666666666,\"#ed7953\"],[0.7777777777777778,\"#fb9f3a\"],[0.8888888888888888,\"#fdca26\"],[1.0,\"#f0f921\"]]}],\"heatmap\":[{\"type\":\"heatmap\",\"colorbar\":{\"outlinewidth\":0,\"ticks\":\"\"},\"colorscale\":[[0.0,\"#0d0887\"],[0.1111111111111111,\"#46039f\"],[0.2222222222222222,\"#7201a8\"],[0.3333333333333333,\"#9c179e\"],[0.4444444444444444,\"#bd3786\"],[0.5555555555555556,\"#d8576b\"],[0.6666666666666666,\"#ed7953\"],[0.7777777777777778,\"#fb9f3a\"],[0.8888888888888888,\"#fdca26\"],[1.0,\"#f0f921\"]]}],\"heatmapgl\":[{\"type\":\"heatmapgl\",\"colorbar\":{\"outlinewidth\":0,\"ticks\":\"\"},\"colorscale\":[[0.0,\"#0d0887\"],[0.1111111111111111,\"#46039f\"],[0.2222222222222222,\"#7201a8\"],[0.3333333333333333,\"#9c179e\"],[0.4444444444444444,\"#bd3786\"],[0.5555555555555556,\"#d8576b\"],[0.6666666666666666,\"#ed7953\"],[0.7777777777777778,\"#fb9f3a\"],[0.8888888888888888,\"#fdca26\"],[1.0,\"#f0f921\"]]}],\"contourcarpet\":[{\"type\":\"contourcarpet\",\"colorbar\":{\"outlinewidth\":0,\"ticks\":\"\"}}],\"contour\":[{\"type\":\"contour\",\"colorbar\":{\"outlinewidth\":0,\"ticks\":\"\"},\"colorscale\":[[0.0,\"#0d0887\"],[0.1111111111111111,\"#46039f\"],[0.2222222222222222,\"#7201a8\"],[0.3333333333333333,\"#9c179e\"],[0.4444444444444444,\"#bd3786\"],[0.5555555555555556,\"#d8576b\"],[0.6666666666666666,\"#ed7953\"],[0.7777777777777778,\"#fb9f3a\"],[0.8888888888888888,\"#fdca26\"],[1.0,\"#f0f921\"]]}],\"surface\":[{\"type\":\"surface\",\"colorbar\":{\"outlinewidth\":0,\"ticks\":\"\"},\"colorscale\":[[0.0,\"#0d0887\"],[0.1111111111111111,\"#46039f\"],[0.2222222222222222,\"#7201a8\"],[0.3333333333333333,\"#9c179e\"],[0.4444444444444444,\"#bd3786\"],[0.5555555555555556,\"#d8576b\"],[0.6666666666666666,\"#ed7953\"],[0.7777777777777778,\"#fb9f3a\"],[0.8888888888888888,\"#fdca26\"],[1.0,\"#f0f921\"]]}],\"mesh3d\":[{\"type\":\"mesh3d\",\"colorbar\":{\"outlinewidth\":0,\"ticks\":\"\"}}],\"scatter\":[{\"fillpattern\":{\"fillmode\":\"overlay\",\"size\":10,\"solidity\":0.2},\"type\":\"scatter\"}],\"parcoords\":[{\"type\":\"parcoords\",\"line\":{\"colorbar\":{\"outlinewidth\":0,\"ticks\":\"\"}}}],\"scatterpolargl\":[{\"type\":\"scatterpolargl\",\"marker\":{\"colorbar\":{\"outlinewidth\":0,\"ticks\":\"\"}}}],\"bar\":[{\"error_x\":{\"color\":\"#2a3f5f\"},\"error_y\":{\"color\":\"#2a3f5f\"},\"marker\":{\"line\":{\"color\":\"#E5ECF6\",\"width\":0.5},\"pattern\":{\"fillmode\":\"overlay\",\"size\":10,\"solidity\":0.2}},\"type\":\"bar\"}],\"scattergeo\":[{\"type\":\"scattergeo\",\"marker\":{\"colorbar\":{\"outlinewidth\":0,\"ticks\":\"\"}}}],\"scatterpolar\":[{\"type\":\"scatterpolar\",\"marker\":{\"colorbar\":{\"outlinewidth\":0,\"ticks\":\"\"}}}],\"histogram\":[{\"marker\":{\"pattern\":{\"fillmode\":\"overlay\",\"size\":10,\"solidity\":0.2}},\"type\":\"histogram\"}],\"scattergl\":[{\"type\":\"scattergl\",\"marker\":{\"colorbar\":{\"outlinewidth\":0,\"ticks\":\"\"}}}],\"scatter3d\":[{\"type\":\"scatter3d\",\"line\":{\"colorbar\":{\"outlinewidth\":0,\"ticks\":\"\"}},\"marker\":{\"colorbar\":{\"outlinewidth\":0,\"ticks\":\"\"}}}],\"scattermapbox\":[{\"type\":\"scattermapbox\",\"marker\":{\"colorbar\":{\"outlinewidth\":0,\"ticks\":\"\"}}}],\"scatterternary\":[{\"type\":\"scatterternary\",\"marker\":{\"colorbar\":{\"outlinewidth\":0,\"ticks\":\"\"}}}],\"scattercarpet\":[{\"type\":\"scattercarpet\",\"marker\":{\"colorbar\":{\"outlinewidth\":0,\"ticks\":\"\"}}}],\"carpet\":[{\"aaxis\":{\"endlinecolor\":\"#2a3f5f\",\"gridcolor\":\"white\",\"linecolor\":\"white\",\"minorgridcolor\":\"white\",\"startlinecolor\":\"#2a3f5f\"},\"baxis\":{\"endlinecolor\":\"#2a3f5f\",\"gridcolor\":\"white\",\"linecolor\":\"white\",\"minorgridcolor\":\"white\",\"startlinecolor\":\"#2a3f5f\"},\"type\":\"carpet\"}],\"table\":[{\"cells\":{\"fill\":{\"color\":\"#EBF0F8\"},\"line\":{\"color\":\"white\"}},\"header\":{\"fill\":{\"color\":\"#C8D4E3\"},\"line\":{\"color\":\"white\"}},\"type\":\"table\"}],\"barpolar\":[{\"marker\":{\"line\":{\"color\":\"#E5ECF6\",\"width\":0.5},\"pattern\":{\"fillmode\":\"overlay\",\"size\":10,\"solidity\":0.2}},\"type\":\"barpolar\"}],\"pie\":[{\"automargin\":true,\"type\":\"pie\"}]},\"layout\":{\"autotypenumbers\":\"strict\",\"colorway\":[\"#636efa\",\"#EF553B\",\"#00cc96\",\"#ab63fa\",\"#FFA15A\",\"#19d3f3\",\"#FF6692\",\"#B6E880\",\"#FF97FF\",\"#FECB52\"],\"font\":{\"color\":\"#2a3f5f\"},\"hovermode\":\"closest\",\"hoverlabel\":{\"align\":\"left\"},\"paper_bgcolor\":\"white\",\"plot_bgcolor\":\"#E5ECF6\",\"polar\":{\"bgcolor\":\"#E5ECF6\",\"angularaxis\":{\"gridcolor\":\"white\",\"linecolor\":\"white\",\"ticks\":\"\"},\"radialaxis\":{\"gridcolor\":\"white\",\"linecolor\":\"white\",\"ticks\":\"\"}},\"ternary\":{\"bgcolor\":\"#E5ECF6\",\"aaxis\":{\"gridcolor\":\"white\",\"linecolor\":\"white\",\"ticks\":\"\"},\"baxis\":{\"gridcolor\":\"white\",\"linecolor\":\"white\",\"ticks\":\"\"},\"caxis\":{\"gridcolor\":\"white\",\"linecolor\":\"white\",\"ticks\":\"\"}},\"coloraxis\":{\"colorbar\":{\"outlinewidth\":0,\"ticks\":\"\"}},\"colorscale\":{\"sequential\":[[0.0,\"#0d0887\"],[0.1111111111111111,\"#46039f\"],[0.2222222222222222,\"#7201a8\"],[0.3333333333333333,\"#9c179e\"],[0.4444444444444444,\"#bd3786\"],[0.5555555555555556,\"#d8576b\"],[0.6666666666666666,\"#ed7953\"],[0.7777777777777778,\"#fb9f3a\"],[0.8888888888888888,\"#fdca26\"],[1.0,\"#f0f921\"]],\"sequentialminus\":[[0.0,\"#0d0887\"],[0.1111111111111111,\"#46039f\"],[0.2222222222222222,\"#7201a8\"],[0.3333333333333333,\"#9c179e\"],[0.4444444444444444,\"#bd3786\"],[0.5555555555555556,\"#d8576b\"],[0.6666666666666666,\"#ed7953\"],[0.7777777777777778,\"#fb9f3a\"],[0.8888888888888888,\"#fdca26\"],[1.0,\"#f0f921\"]],\"diverging\":[[0,\"#8e0152\"],[0.1,\"#c51b7d\"],[0.2,\"#de77ae\"],[0.3,\"#f1b6da\"],[0.4,\"#fde0ef\"],[0.5,\"#f7f7f7\"],[0.6,\"#e6f5d0\"],[0.7,\"#b8e186\"],[0.8,\"#7fbc41\"],[0.9,\"#4d9221\"],[1,\"#276419\"]]},\"xaxis\":{\"gridcolor\":\"white\",\"linecolor\":\"white\",\"ticks\":\"\",\"title\":{\"standoff\":15},\"zerolinecolor\":\"white\",\"automargin\":true,\"zerolinewidth\":2},\"yaxis\":{\"gridcolor\":\"white\",\"linecolor\":\"white\",\"ticks\":\"\",\"title\":{\"standoff\":15},\"zerolinecolor\":\"white\",\"automargin\":true,\"zerolinewidth\":2},\"scene\":{\"xaxis\":{\"backgroundcolor\":\"#E5ECF6\",\"gridcolor\":\"white\",\"linecolor\":\"white\",\"showbackground\":true,\"ticks\":\"\",\"zerolinecolor\":\"white\",\"gridwidth\":2},\"yaxis\":{\"backgroundcolor\":\"#E5ECF6\",\"gridcolor\":\"white\",\"linecolor\":\"white\",\"showbackground\":true,\"ticks\":\"\",\"zerolinecolor\":\"white\",\"gridwidth\":2},\"zaxis\":{\"backgroundcolor\":\"#E5ECF6\",\"gridcolor\":\"white\",\"linecolor\":\"white\",\"showbackground\":true,\"ticks\":\"\",\"zerolinecolor\":\"white\",\"gridwidth\":2}},\"shapedefaults\":{\"line\":{\"color\":\"#2a3f5f\"}},\"annotationdefaults\":{\"arrowcolor\":\"#2a3f5f\",\"arrowhead\":0,\"arrowwidth\":1},\"geo\":{\"bgcolor\":\"white\",\"landcolor\":\"#E5ECF6\",\"subunitcolor\":\"white\",\"showland\":true,\"showlakes\":true,\"lakecolor\":\"white\"},\"title\":{\"x\":0.05},\"mapbox\":{\"style\":\"light\"}}},\"margin\":{\"r\":20,\"b\":10,\"l\":10,\"t\":10},\"scene\":{\"yaxis\":{\"title\":{\"text\":\"Drilling direction\"}},\"zaxis\":{\"title\":{\"text\":\"True vertical depth (TVD)\"},\"autorange\":\"reversed\"}},\"width\":700},                        {\"responsive\": true}                    ).then(function(){\n",
       "                            \n",
       "var gd = document.getElementById('451c6a77-8cd4-4de3-8917-28de21a8dad5');\n",
       "var x = new MutationObserver(function (mutations, observer) {{\n",
       "        var display = window.getComputedStyle(gd).display;\n",
       "        if (!display || display === 'none') {{\n",
       "            console.log([gd, 'removed!']);\n",
       "            Plotly.purge(gd);\n",
       "            observer.disconnect();\n",
       "        }}\n",
       "}});\n",
       "\n",
       "// Listen for the removal of the full notebook cells\n",
       "var notebookContainer = gd.closest('#notebook-container');\n",
       "if (notebookContainer) {{\n",
       "    x.observe(notebookContainer, {childList: true});\n",
       "}}\n",
       "\n",
       "// Listen for the clearing of the current output cell\n",
       "var outputEl = gd.closest('.output');\n",
       "if (outputEl) {{\n",
       "    x.observe(outputEl, {childList: true});\n",
       "}}\n",
       "\n",
       "                        })                };                });            </script>        </div>"
      ]
     },
     "metadata": {},
     "output_type": "display_data"
    }
   ],
   "source": [
    "plot_3d_traj(traj_x, traj_y, traj_z)"
   ]
  },
  {
   "cell_type": "code",
   "execution_count": null,
   "id": "dafeb5f6",
   "metadata": {},
   "outputs": [],
   "source": [
    "    "
   ]
  }
 ],
 "metadata": {
  "kernelspec": {
   "display_name": "Python 3 (ipykernel)",
   "language": "python",
   "name": "python3"
  },
  "language_info": {
   "codemirror_mode": {
    "name": "ipython",
    "version": 3
   },
   "file_extension": ".py",
   "mimetype": "text/x-python",
   "name": "python",
   "nbconvert_exporter": "python",
   "pygments_lexer": "ipython3",
   "version": "3.9.13"
  }
 },
 "nbformat": 4,
 "nbformat_minor": 5
}
